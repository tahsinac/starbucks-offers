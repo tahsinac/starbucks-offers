{
 "cells": [
  {
   "cell_type": "markdown",
   "metadata": {},
   "source": [
    "# Starbucks Capstone Challenge\n",
    "\n",
    "### Introduction\n",
    "\n",
    "This data set contains simulated data that mimics customer behavior on the Starbucks rewards mobile app. Once every few days, Starbucks sends out an offer to users of the mobile app. An offer can be merely an advertisement for a drink or an actual offer such as a discount or BOGO (buy one get one free). Some users might not receive any offer during certain weeks. \n",
    "\n",
    "Not all users receive the same offer, and that is the challenge to solve with this data set.\n",
    "\n",
    "Your task is to combine transaction, demographic and offer data to determine which demographic groups respond best to which offer type. This data set is a simplified version of the real Starbucks app because the underlying simulator only has one product whereas Starbucks actually sells dozens of products.\n",
    "\n",
    "Every offer has a validity period before the offer expires. As an example, a BOGO offer might be valid for only 5 days. You'll see in the data set that informational offers have a validity period even though these ads are merely providing information about a product; for example, if an informational offer has 7 days of validity, you can assume the customer is feeling the influence of the offer for 7 days after receiving the advertisement.\n",
    "\n",
    "You'll be given transactional data showing user purchases made on the app including the timestamp of purchase and the amount of money spent on a purchase. This transactional data also has a record for each offer that a user receives as well as a record for when a user actually views the offer. There are also records for when a user completes an offer. \n",
    "\n",
    "Keep in mind as well that someone using the app might make a purchase through the app without having received an offer or seen an offer.\n",
    "\n",
    "### Example\n",
    "\n",
    "To give an example, a user could receive a discount offer buy 10 dollars get 2 off on Monday. The offer is valid for 10 days from receipt. If the customer accumulates at least 10 dollars in purchases during the validity period, the customer completes the offer.\n",
    "\n",
    "However, there are a few things to watch out for in this data set. Customers do not opt into the offers that they receive; in other words, a user can receive an offer, never actually view the offer, and still complete the offer. For example, a user might receive the \"buy 10 dollars get 2 dollars off offer\", but the user never opens the offer during the 10 day validity period. The customer spends 15 dollars during those ten days. There will be an offer completion record in the data set; however, the customer was not influenced by the offer because the customer never viewed the offer.\n",
    "\n",
    "### Cleaning\n",
    "\n",
    "This makes data cleaning especially important and tricky.\n",
    "\n",
    "You'll also want to take into account that some demographic groups will make purchases even if they don't receive an offer. From a business perspective, if a customer is going to make a 10 dollar purchase without an offer anyway, you wouldn't want to send a buy 10 dollars get 2 dollars off offer. You'll want to try to assess what a certain demographic group will buy when not receiving any offers.\n",
    "\n",
    "### Final Advice\n",
    "\n",
    "Because this is a capstone project, you are free to analyze the data any way you see fit. For example, you could build a machine learning model that predicts how much someone will spend based on demographics and offer type. Or you could build a model that predicts whether or not someone will respond to an offer. Or, you don't need to build a machine learning model at all. You could develop a set of heuristics that determine what offer you should send to each customer (i.e., 75 percent of women customers who were 35 years old responded to offer A vs 40 percent from the same demographic to offer B, so send offer A)."
   ]
  },
  {
   "cell_type": "markdown",
   "metadata": {},
   "source": [
    "# Data Sets\n",
    "\n",
    "The data is contained in three files:\n",
    "\n",
    "* portfolio.json - containing offer ids and meta data about each offer (duration, type, etc.)\n",
    "* profile.json - demographic data for each customer\n",
    "* transcript.json - records for transactions, offers received, offers viewed, and offers completed\n",
    "\n",
    "Here is the schema and explanation of each variable in the files:\n",
    "\n",
    "**portfolio.json**\n",
    "* id (string) - offer id\n",
    "* offer_type (string) - type of offer ie BOGO, discount, informational\n",
    "* difficulty (int) - minimum required spend to complete an offer\n",
    "* reward (int) - reward given for completing an offer\n",
    "* duration (int) - time for offer to be open, in days\n",
    "* channels (list of strings)\n",
    "\n",
    "**profile.json**\n",
    "* age (int) - age of the customer \n",
    "* became_member_on (int) - date when customer created an app account\n",
    "* gender (str) - gender of the customer (note some entries contain 'O' for other rather than M or F)\n",
    "* id (str) - customer id\n",
    "* income (float) - customer's income\n",
    "\n",
    "**transcript.json**\n",
    "* event (str) - record description (ie transaction, offer received, offer viewed, etc.)\n",
    "* person (str) - customer id\n",
    "* time (int) - time in hours since start of test. The data begins at time t=0\n",
    "* value - (dict of strings) - either an offer id or transaction amount depending on the record\n",
    "\n",
    "**Note:** If you are using the workspace, you will need to go to the terminal and run the command `conda update pandas` before reading in the files. This is because the version of pandas in the workspace cannot read in the transcript.json file correctly, but the newest version of pandas can. You can access the termnal from the orange icon in the top left of this notebook.  \n",
    "\n",
    "You can see how to access the terminal and how the install works using the two images below.  First you need to access the terminal:\n",
    "\n",
    "<img src=\"pic1.png\"/>\n",
    "\n",
    "Then you will want to run the above command:\n",
    "\n",
    "<img src=\"pic2.png\"/>\n",
    "\n",
    "Finally, when you enter back into the notebook (use the jupyter icon again), you should be able to run the below cell without any errors."
   ]
  },
  {
   "cell_type": "markdown",
   "metadata": {},
   "source": [
    "## Importing Necessary Libraries"
   ]
  },
  {
   "cell_type": "code",
   "execution_count": 143,
   "metadata": {},
   "outputs": [],
   "source": [
    "import pandas as pd\n",
    "import numpy as np\n",
    "import math\n",
    "import json\n",
    "import matplotlib.pyplot as plt\n",
    "import seaborn as sns\n",
    "import datetime as dt\n",
    "import re\n",
    "from collections import defaultdict\n",
    "import progressbar\n",
    "from sklearn.model_selection import train_test_split, GridSearchCV\n",
    "from sklearn.metrics import roc_auc_score, recall_score, f1_score, make_scorer\n",
    "from sklearn.ensemble import RandomForestClassifier, RandomForestRegressor\n",
    "from sklearn.externals import joblib\n",
    "\n",
    "% matplotlib inline\n",
    "plt.style.use('seaborn-darkgrid')\n",
    "sns.set_style('darkgrid')"
   ]
  },
  {
   "cell_type": "markdown",
   "metadata": {},
   "source": [
    "## Loading The Data"
   ]
  },
  {
   "cell_type": "code",
   "execution_count": 144,
   "metadata": {},
   "outputs": [],
   "source": [
    "# read in the json files\n",
    "profile = pd.read_json('data/profile.json', orient='records', lines=True)\n",
    "portfolio = pd.read_json('data/portfolio.json', orient='records', lines=True)\n",
    "transcript = pd.read_json('data/transcript.json', orient='records', lines=True)"
   ]
  },
  {
   "cell_type": "markdown",
   "metadata": {},
   "source": [
    "## Preliminary Exploration: Profiles"
   ]
  },
  {
   "cell_type": "markdown",
   "metadata": {},
   "source": [
    "Before we do anything else, it is important to first get accquinted with the user base. That is, see how much data we have about our users, what can the data tell us and see the distribution of the dataset."
   ]
  },
  {
   "cell_type": "markdown",
   "metadata": {},
   "source": [
    "### Age"
   ]
  },
  {
   "cell_type": "code",
   "execution_count": 145,
   "metadata": {},
   "outputs": [
    {
     "data": {
      "text/html": [
       "<div>\n",
       "<style scoped>\n",
       "    .dataframe tbody tr th:only-of-type {\n",
       "        vertical-align: middle;\n",
       "    }\n",
       "\n",
       "    .dataframe tbody tr th {\n",
       "        vertical-align: top;\n",
       "    }\n",
       "\n",
       "    .dataframe thead th {\n",
       "        text-align: right;\n",
       "    }\n",
       "</style>\n",
       "<table border=\"1\" class=\"dataframe\">\n",
       "  <thead>\n",
       "    <tr style=\"text-align: right;\">\n",
       "      <th></th>\n",
       "      <th>age</th>\n",
       "      <th>became_member_on</th>\n",
       "      <th>gender</th>\n",
       "      <th>id</th>\n",
       "      <th>income</th>\n",
       "    </tr>\n",
       "  </thead>\n",
       "  <tbody>\n",
       "    <tr>\n",
       "      <th>0</th>\n",
       "      <td>118</td>\n",
       "      <td>20170212</td>\n",
       "      <td>None</td>\n",
       "      <td>68be06ca386d4c31939f3a4f0e3dd783</td>\n",
       "      <td>NaN</td>\n",
       "    </tr>\n",
       "    <tr>\n",
       "      <th>1</th>\n",
       "      <td>55</td>\n",
       "      <td>20170715</td>\n",
       "      <td>F</td>\n",
       "      <td>0610b486422d4921ae7d2bf64640c50b</td>\n",
       "      <td>112000.0</td>\n",
       "    </tr>\n",
       "    <tr>\n",
       "      <th>2</th>\n",
       "      <td>118</td>\n",
       "      <td>20180712</td>\n",
       "      <td>None</td>\n",
       "      <td>38fe809add3b4fcf9315a9694bb96ff5</td>\n",
       "      <td>NaN</td>\n",
       "    </tr>\n",
       "    <tr>\n",
       "      <th>3</th>\n",
       "      <td>75</td>\n",
       "      <td>20170509</td>\n",
       "      <td>F</td>\n",
       "      <td>78afa995795e4d85b5d9ceeca43f5fef</td>\n",
       "      <td>100000.0</td>\n",
       "    </tr>\n",
       "    <tr>\n",
       "      <th>4</th>\n",
       "      <td>118</td>\n",
       "      <td>20170804</td>\n",
       "      <td>None</td>\n",
       "      <td>a03223e636434f42ac4c3df47e8bac43</td>\n",
       "      <td>NaN</td>\n",
       "    </tr>\n",
       "  </tbody>\n",
       "</table>\n",
       "</div>"
      ],
      "text/plain": [
       "   age  became_member_on gender                                id    income\n",
       "0  118          20170212   None  68be06ca386d4c31939f3a4f0e3dd783       NaN\n",
       "1   55          20170715      F  0610b486422d4921ae7d2bf64640c50b  112000.0\n",
       "2  118          20180712   None  38fe809add3b4fcf9315a9694bb96ff5       NaN\n",
       "3   75          20170509      F  78afa995795e4d85b5d9ceeca43f5fef  100000.0\n",
       "4  118          20170804   None  a03223e636434f42ac4c3df47e8bac43       NaN"
      ]
     },
     "execution_count": 145,
     "metadata": {},
     "output_type": "execute_result"
    }
   ],
   "source": [
    "profile.head()"
   ]
  },
  {
   "cell_type": "code",
   "execution_count": 146,
   "metadata": {},
   "outputs": [
    {
     "data": {
      "text/plain": [
       "(17000, 5)"
      ]
     },
     "execution_count": 146,
     "metadata": {},
     "output_type": "execute_result"
    }
   ],
   "source": [
    "profile.shape"
   ]
  },
  {
   "cell_type": "code",
   "execution_count": 147,
   "metadata": {},
   "outputs": [
    {
     "data": {
      "text/plain": [
       "age                    0\n",
       "became_member_on       0\n",
       "gender              2175\n",
       "id                     0\n",
       "income              2175\n",
       "dtype: int64"
      ]
     },
     "execution_count": 147,
     "metadata": {},
     "output_type": "execute_result"
    }
   ],
   "source": [
    "profile.isnull().sum()"
   ]
  },
  {
   "cell_type": "code",
   "execution_count": 148,
   "metadata": {},
   "outputs": [
    {
     "data": {
      "image/png": "[encoded data removed]",
      "text/plain": [
       "<Figure size 432x288 with 1 Axes>"
      ]
     },
     "metadata": {},
     "output_type": "display_data"
    }
   ],
   "source": [
    "profile['age'].hist();\n",
    "plt.axvline(profile['age'].mean(), color = 'orange', linestyle = '--', label = 'mean age')\n",
    "plt.title('Age Distribution', fontsize = 14, y = 1.02)\n",
    "plt.xlabel('Age(yrs)')\n",
    "plt.legend()\n",
    "plt.show()"
   ]
  },
  {
   "cell_type": "markdown",
   "metadata": {},
   "source": [
    "Findings:\n",
    "* The mean age of the demography is over 60 years old and most of the users are between 50 and 66 years old. This is surprising as you'd expect the younger generation to be more active with apps and the cafe culture.\n",
    "* There are a few datapoints which are over 100 which make very little sense. These are probably outliers and should be dealt with."
   ]
  },
  {
   "cell_type": "code",
   "execution_count": 149,
   "metadata": {},
   "outputs": [
    {
     "data": {
      "text/plain": [
       "count    17000.000000\n",
       "mean        62.531412\n",
       "std         26.738580\n",
       "min         18.000000\n",
       "25%         45.000000\n",
       "50%         58.000000\n",
       "75%         73.000000\n",
       "max        118.000000\n",
       "Name: age, dtype: float64"
      ]
     },
     "execution_count": 149,
     "metadata": {},
     "output_type": "execute_result"
    }
   ],
   "source": [
    "profile.age.describe()"
   ]
  },
  {
   "cell_type": "code",
   "execution_count": 150,
   "metadata": {},
   "outputs": [
    {
     "data": {
      "text/plain": [
       "118    2175\n",
       "91       47\n",
       "92       40\n",
       "94       33\n",
       "93       29\n",
       "95       22\n",
       "97       13\n",
       "100      12\n",
       "96        8\n",
       "101       5\n",
       "99        5\n",
       "98        5\n",
       "Name: age, dtype: int64"
      ]
     },
     "execution_count": 150,
     "metadata": {},
     "output_type": "execute_result"
    }
   ],
   "source": [
    "profile[profile['age'] > 90]['age'].value_counts()"
   ]
  },
  {
   "cell_type": "markdown",
   "metadata": {},
   "source": [
    "Upon taking a closer look, we can see that there are over 2000 users with the age of 118. This is impossible as according to [this wikipedia article](https://en.wikipedia.org/wiki/List_of_the_verified_oldest_people), there are only 7 living individuals over the age of 117 and in fact, none at the age of 118.\n",
    "\n",
    "For now, we will be replacing these values with NaNs."
   ]
  },
  {
   "cell_type": "code",
   "execution_count": 151,
   "metadata": {},
   "outputs": [],
   "source": [
    "profile['age'].replace(118, np.nan, inplace = True)"
   ]
  },
  {
   "cell_type": "markdown",
   "metadata": {},
   "source": [
    "### Income"
   ]
  },
  {
   "cell_type": "code",
   "execution_count": 152,
   "metadata": {},
   "outputs": [
    {
     "data": {
      "text/plain": [
       "count     14825.000000\n",
       "mean      65404.991568\n",
       "std       21598.299410\n",
       "min       30000.000000\n",
       "25%       49000.000000\n",
       "50%       64000.000000\n",
       "75%       80000.000000\n",
       "max      120000.000000\n",
       "Name: income, dtype: float64"
      ]
     },
     "execution_count": 152,
     "metadata": {},
     "output_type": "execute_result"
    }
   ],
   "source": [
    "profile.income.describe()"
   ]
  },
  {
   "cell_type": "code",
   "execution_count": 153,
   "metadata": {
    "scrolled": true
   },
   "outputs": [
    {
     "data": {
      "image/png": "[encoded data removed]",
      "text/plain": [
       "<Figure size 432x288 with 1 Axes>"
      ]
     },
     "metadata": {},
     "output_type": "display_data"
    },
    {
     "name": "stdout",
     "output_type": "stream",
     "text": [
      "Median Income : 64000.0\n",
      "Mean Income : 65405.0\n"
     ]
    }
   ],
   "source": [
    "profile['income'].hist();\n",
    "plt.axvline(profile['income'].median(), color = 'orange', linestyle = '--', label = 'median income')\n",
    "plt.axvline(profile['income'].mean(), color = 'pink', linestyle = '--', label = 'mean income')\n",
    "plt.title('Income Distribution', fontsize = 14, y = 1.02)\n",
    "plt.xlabel('Income')\n",
    "plt.legend()\n",
    "plt.show()\n",
    "\n",
    "print('Median Income : {}'.format(profile['income'].median()))\n",
    "print('Mean Income : {}'.format(round(profile['income'].mean(), 1)))"
   ]
  },
  {
   "cell_type": "markdown",
   "metadata": {},
   "source": [
    "The income distribution is slightly skewed to the right. The average income is slighly higher than the median."
   ]
  },
  {
   "cell_type": "markdown",
   "metadata": {},
   "source": [
    "### Gender"
   ]
  },
  {
   "cell_type": "code",
   "execution_count": 154,
   "metadata": {},
   "outputs": [
    {
     "data": {
      "text/plain": [
       "M    57.227656\n",
       "F    41.342327\n",
       "O     1.430017\n",
       "Name: gender, dtype: float64"
      ]
     },
     "execution_count": 154,
     "metadata": {},
     "output_type": "execute_result"
    }
   ],
   "source": [
    "profile['gender'].value_counts()/len(profile['gender'].dropna())*100"
   ]
  },
  {
   "cell_type": "code",
   "execution_count": 155,
   "metadata": {},
   "outputs": [
    {
     "data": {
      "image/png": "[encoded data removed]",
      "text/plain": [
       "<Figure size 432x288 with 1 Axes>"
      ]
     },
     "metadata": {},
     "output_type": "display_data"
    }
   ],
   "source": [
    "profile['gender'].value_counts().plot(kind='bar', color = 'orange')\n",
    "plt.xticks(rotation = 0)\n",
    "plt.title('Gender Distribution', fontsize = 14, y = 1.02)\n",
    "plt.xlabel('Gender')\n",
    "plt.show()"
   ]
  },
  {
   "cell_type": "markdown",
   "metadata": {},
   "source": [
    "### Became Member On"
   ]
  },
  {
   "cell_type": "code",
   "execution_count": 156,
   "metadata": {},
   "outputs": [],
   "source": [
    "profile['became_member_on'] = pd.to_datetime(profile['became_member_on'], format='%Y%m%d')"
   ]
  },
  {
   "cell_type": "code",
   "execution_count": 157,
   "metadata": {},
   "outputs": [],
   "source": [
    "profile['member_since_year'] = profile['became_member_on'].dt.year"
   ]
  },
  {
   "cell_type": "code",
   "execution_count": 158,
   "metadata": {},
   "outputs": [],
   "source": [
    "profile['member_for_days'] = pd.to_datetime('20180926',format='%Y%m%d')\n",
    "profile['member_for_days'] = round(((profile['member_for_days'] - profile['became_member_on'])/np.timedelta64(1, 'D')))"
   ]
  },
  {
   "cell_type": "code",
   "execution_count": 159,
   "metadata": {
    "scrolled": true
   },
   "outputs": [
    {
     "data": {
      "text/html": [
       "<div>\n",
       "<style scoped>\n",
       "    .dataframe tbody tr th:only-of-type {\n",
       "        vertical-align: middle;\n",
       "    }\n",
       "\n",
       "    .dataframe tbody tr th {\n",
       "        vertical-align: top;\n",
       "    }\n",
       "\n",
       "    .dataframe thead th {\n",
       "        text-align: right;\n",
       "    }\n",
       "</style>\n",
       "<table border=\"1\" class=\"dataframe\">\n",
       "  <thead>\n",
       "    <tr style=\"text-align: right;\">\n",
       "      <th></th>\n",
       "      <th>age</th>\n",
       "      <th>became_member_on</th>\n",
       "      <th>gender</th>\n",
       "      <th>id</th>\n",
       "      <th>income</th>\n",
       "      <th>member_since_year</th>\n",
       "      <th>member_for_days</th>\n",
       "    </tr>\n",
       "  </thead>\n",
       "  <tbody>\n",
       "    <tr>\n",
       "      <th>0</th>\n",
       "      <td>NaN</td>\n",
       "      <td>2017-02-12</td>\n",
       "      <td>None</td>\n",
       "      <td>68be06ca386d4c31939f3a4f0e3dd783</td>\n",
       "      <td>NaN</td>\n",
       "      <td>2017</td>\n",
       "      <td>591.0</td>\n",
       "    </tr>\n",
       "    <tr>\n",
       "      <th>1</th>\n",
       "      <td>55.0</td>\n",
       "      <td>2017-07-15</td>\n",
       "      <td>F</td>\n",
       "      <td>0610b486422d4921ae7d2bf64640c50b</td>\n",
       "      <td>112000.0</td>\n",
       "      <td>2017</td>\n",
       "      <td>438.0</td>\n",
       "    </tr>\n",
       "    <tr>\n",
       "      <th>2</th>\n",
       "      <td>NaN</td>\n",
       "      <td>2018-07-12</td>\n",
       "      <td>None</td>\n",
       "      <td>38fe809add3b4fcf9315a9694bb96ff5</td>\n",
       "      <td>NaN</td>\n",
       "      <td>2018</td>\n",
       "      <td>76.0</td>\n",
       "    </tr>\n",
       "    <tr>\n",
       "      <th>3</th>\n",
       "      <td>75.0</td>\n",
       "      <td>2017-05-09</td>\n",
       "      <td>F</td>\n",
       "      <td>78afa995795e4d85b5d9ceeca43f5fef</td>\n",
       "      <td>100000.0</td>\n",
       "      <td>2017</td>\n",
       "      <td>505.0</td>\n",
       "    </tr>\n",
       "    <tr>\n",
       "      <th>4</th>\n",
       "      <td>NaN</td>\n",
       "      <td>2017-08-04</td>\n",
       "      <td>None</td>\n",
       "      <td>a03223e636434f42ac4c3df47e8bac43</td>\n",
       "      <td>NaN</td>\n",
       "      <td>2017</td>\n",
       "      <td>418.0</td>\n",
       "    </tr>\n",
       "  </tbody>\n",
       "</table>\n",
       "</div>"
      ],
      "text/plain": [
       "    age became_member_on gender                                id    income  \\\n",
       "0   NaN       2017-02-12   None  68be06ca386d4c31939f3a4f0e3dd783       NaN   \n",
       "1  55.0       2017-07-15      F  0610b486422d4921ae7d2bf64640c50b  112000.0   \n",
       "2   NaN       2018-07-12   None  38fe809add3b4fcf9315a9694bb96ff5       NaN   \n",
       "3  75.0       2017-05-09      F  78afa995795e4d85b5d9ceeca43f5fef  100000.0   \n",
       "4   NaN       2017-08-04   None  a03223e636434f42ac4c3df47e8bac43       NaN   \n",
       "\n",
       "   member_since_year  member_for_days  \n",
       "0               2017            591.0  \n",
       "1               2017            438.0  \n",
       "2               2018             76.0  \n",
       "3               2017            505.0  \n",
       "4               2017            418.0  "
      ]
     },
     "execution_count": 159,
     "metadata": {},
     "output_type": "execute_result"
    }
   ],
   "source": [
    "profile.head()"
   ]
  },
  {
   "cell_type": "code",
   "execution_count": 160,
   "metadata": {},
   "outputs": [
    {
     "data": {
      "image/png": "[encoded data removed]",
      "text/plain": [
       "<Figure size 432x288 with 1 Axes>"
      ]
     },
     "metadata": {},
     "output_type": "display_data"
    }
   ],
   "source": [
    "profile.groupby('member_since_year').count()['id'].plot(kind = 'bar', color = 'teal')\n",
    "plt.xticks(rotation = 0)\n",
    "plt.title('Years Membership Started', fontsize = 14, y = 1.02)\n",
    "plt.xlabel('Year')\n",
    "plt.show()"
   ]
  },
  {
   "cell_type": "markdown",
   "metadata": {},
   "source": [
    "Looks like there was a steady growth of membership from 2013 to 2017, however the number fell in the year 2018. Most of the users of the app became members in the last 2 years."
   ]
  },
  {
   "cell_type": "code",
   "execution_count": 161,
   "metadata": {},
   "outputs": [
    {
     "data": {
      "text/html": [
       "<div>\n",
       "<style scoped>\n",
       "    .dataframe tbody tr th:only-of-type {\n",
       "        vertical-align: middle;\n",
       "    }\n",
       "\n",
       "    .dataframe tbody tr th {\n",
       "        vertical-align: top;\n",
       "    }\n",
       "\n",
       "    .dataframe thead th {\n",
       "        text-align: right;\n",
       "    }\n",
       "</style>\n",
       "<table border=\"1\" class=\"dataframe\">\n",
       "  <thead>\n",
       "    <tr style=\"text-align: right;\">\n",
       "      <th></th>\n",
       "      <th>age</th>\n",
       "      <th>became_member_on</th>\n",
       "      <th>gender</th>\n",
       "      <th>id</th>\n",
       "      <th>income</th>\n",
       "      <th>member_since_year</th>\n",
       "      <th>member_for_days</th>\n",
       "    </tr>\n",
       "  </thead>\n",
       "  <tbody>\n",
       "    <tr>\n",
       "      <th>4357</th>\n",
       "      <td>76.0</td>\n",
       "      <td>2018-07-26</td>\n",
       "      <td>M</td>\n",
       "      <td>6597e5ab63754726b83ba2032f008d26</td>\n",
       "      <td>92000.0</td>\n",
       "      <td>2018</td>\n",
       "      <td>62.0</td>\n",
       "    </tr>\n",
       "  </tbody>\n",
       "</table>\n",
       "</div>"
      ],
      "text/plain": [
       "       age became_member_on gender                                id   income  \\\n",
       "4357  76.0       2018-07-26      M  6597e5ab63754726b83ba2032f008d26  92000.0   \n",
       "\n",
       "      member_since_year  member_for_days  \n",
       "4357               2018             62.0  "
      ]
     },
     "execution_count": 161,
     "metadata": {},
     "output_type": "execute_result"
    }
   ],
   "source": [
    "profile.sort_values(by = 'became_member_on').tail(1)"
   ]
  },
  {
   "cell_type": "markdown",
   "metadata": {},
   "source": [
    "Well, looks like the fewer number of membership starts in 2018 is not because of a fall in trend. It is because we don't have the data for the entire year."
   ]
  },
  {
   "cell_type": "code",
   "execution_count": 162,
   "metadata": {},
   "outputs": [
    {
     "data": {
      "image/png": "[encoded data removed]",
      "text/plain": [
       "<Figure size 432x288 with 1 Axes>"
      ]
     },
     "metadata": {},
     "output_type": "display_data"
    }
   ],
   "source": [
    "profile['member_for_days'].hist()\n",
    "plt.title('Membership Duration Distribution', fontsize = 14, y = 1.02)\n",
    "plt.xlabel('Days')\n",
    "plt.show()"
   ]
  },
  {
   "cell_type": "markdown",
   "metadata": {},
   "source": [
    "### All Together Now.."
   ]
  },
  {
   "cell_type": "code",
   "execution_count": 163,
   "metadata": {},
   "outputs": [
    {
     "data": {
      "image/png": "[encoded data removed]",
      "text/plain": [
       "<Figure size 656x216 with 3 Axes>"
      ]
     },
     "metadata": {},
     "output_type": "display_data"
    }
   ],
   "source": [
    "g = sns.FacetGrid(data = profile, col = 'gender')\n",
    "g.map(plt.scatter, 'age', 'income', alpha=0.2, color = 'r');\n",
    "g.add_legend();"
   ]
  },
  {
   "cell_type": "markdown",
   "metadata": {},
   "source": [
    "For both males and females, there seems to be 3 income brackets that have a minimum age of around 20, 38 and 50 respectively."
   ]
  },
  {
   "cell_type": "code",
   "execution_count": 164,
   "metadata": {},
   "outputs": [
    {
     "data": {
      "text/html": [
       "<div>\n",
       "<style scoped>\n",
       "    .dataframe tbody tr th:only-of-type {\n",
       "        vertical-align: middle;\n",
       "    }\n",
       "\n",
       "    .dataframe tbody tr th {\n",
       "        vertical-align: top;\n",
       "    }\n",
       "\n",
       "    .dataframe thead th {\n",
       "        text-align: right;\n",
       "    }\n",
       "</style>\n",
       "<table border=\"1\" class=\"dataframe\">\n",
       "  <thead>\n",
       "    <tr style=\"text-align: right;\">\n",
       "      <th></th>\n",
       "      <th>age</th>\n",
       "      <th>became_member_on</th>\n",
       "      <th>gender</th>\n",
       "      <th>id</th>\n",
       "      <th>income</th>\n",
       "      <th>member_since_year</th>\n",
       "      <th>member_for_days</th>\n",
       "    </tr>\n",
       "  </thead>\n",
       "  <tbody>\n",
       "    <tr>\n",
       "      <th>0</th>\n",
       "      <td>NaN</td>\n",
       "      <td>2017-02-12</td>\n",
       "      <td>None</td>\n",
       "      <td>68be06ca386d4c31939f3a4f0e3dd783</td>\n",
       "      <td>NaN</td>\n",
       "      <td>2017</td>\n",
       "      <td>591.0</td>\n",
       "    </tr>\n",
       "    <tr>\n",
       "      <th>1</th>\n",
       "      <td>55.0</td>\n",
       "      <td>2017-07-15</td>\n",
       "      <td>F</td>\n",
       "      <td>0610b486422d4921ae7d2bf64640c50b</td>\n",
       "      <td>112000.0</td>\n",
       "      <td>2017</td>\n",
       "      <td>438.0</td>\n",
       "    </tr>\n",
       "    <tr>\n",
       "      <th>2</th>\n",
       "      <td>NaN</td>\n",
       "      <td>2018-07-12</td>\n",
       "      <td>None</td>\n",
       "      <td>38fe809add3b4fcf9315a9694bb96ff5</td>\n",
       "      <td>NaN</td>\n",
       "      <td>2018</td>\n",
       "      <td>76.0</td>\n",
       "    </tr>\n",
       "    <tr>\n",
       "      <th>3</th>\n",
       "      <td>75.0</td>\n",
       "      <td>2017-05-09</td>\n",
       "      <td>F</td>\n",
       "      <td>78afa995795e4d85b5d9ceeca43f5fef</td>\n",
       "      <td>100000.0</td>\n",
       "      <td>2017</td>\n",
       "      <td>505.0</td>\n",
       "    </tr>\n",
       "    <tr>\n",
       "      <th>4</th>\n",
       "      <td>NaN</td>\n",
       "      <td>2017-08-04</td>\n",
       "      <td>None</td>\n",
       "      <td>a03223e636434f42ac4c3df47e8bac43</td>\n",
       "      <td>NaN</td>\n",
       "      <td>2017</td>\n",
       "      <td>418.0</td>\n",
       "    </tr>\n",
       "  </tbody>\n",
       "</table>\n",
       "</div>"
      ],
      "text/plain": [
       "    age became_member_on gender                                id    income  \\\n",
       "0   NaN       2017-02-12   None  68be06ca386d4c31939f3a4f0e3dd783       NaN   \n",
       "1  55.0       2017-07-15      F  0610b486422d4921ae7d2bf64640c50b  112000.0   \n",
       "2   NaN       2018-07-12   None  38fe809add3b4fcf9315a9694bb96ff5       NaN   \n",
       "3  75.0       2017-05-09      F  78afa995795e4d85b5d9ceeca43f5fef  100000.0   \n",
       "4   NaN       2017-08-04   None  a03223e636434f42ac4c3df47e8bac43       NaN   \n",
       "\n",
       "   member_since_year  member_for_days  \n",
       "0               2017            591.0  \n",
       "1               2017            438.0  \n",
       "2               2018             76.0  \n",
       "3               2017            505.0  \n",
       "4               2017            418.0  "
      ]
     },
     "execution_count": 164,
     "metadata": {},
     "output_type": "execute_result"
    }
   ],
   "source": [
    "profile.head()"
   ]
  },
  {
   "cell_type": "code",
   "execution_count": 165,
   "metadata": {},
   "outputs": [
    {
     "data": {
      "image/png": "[encoded data removed]",
      "text/plain": [
       "<Figure size 648x360 with 1 Axes>"
      ]
     },
     "metadata": {},
     "output_type": "display_data"
    }
   ],
   "source": [
    "plt.figure(figsize=(9, 5))\n",
    "mem_since_plot = sns.countplot(data = profile, x = 'member_since_year', hue = 'gender')\n",
    "mem_since_plot.set_title('Membership Since Year Distibution By Gender', fontsize = 15, y = 1.02);"
   ]
  },
  {
   "cell_type": "markdown",
   "metadata": {},
   "source": [
    "The membership count for all three years has been increasing for all three gender groups."
   ]
  },
  {
   "cell_type": "markdown",
   "metadata": {},
   "source": [
    "### Findings of Preliminary Exploration Of The Profile Dataset"
   ]
  },
  {
   "cell_type": "markdown",
   "metadata": {},
   "source": [
    "* Most of the users are from an older generation.\n",
    "* Most users became members in recent years.\n",
    "* Median income of the user base is $64k.\n",
    "* Males make up 57% of the user base while females make up 41%."
   ]
  },
  {
   "cell_type": "markdown",
   "metadata": {},
   "source": [
    "## Preliminary Exploration: Portfolio"
   ]
  },
  {
   "cell_type": "code",
   "execution_count": 166,
   "metadata": {},
   "outputs": [
    {
     "data": {
      "text/html": [
       "<div>\n",
       "<style scoped>\n",
       "    .dataframe tbody tr th:only-of-type {\n",
       "        vertical-align: middle;\n",
       "    }\n",
       "\n",
       "    .dataframe tbody tr th {\n",
       "        vertical-align: top;\n",
       "    }\n",
       "\n",
       "    .dataframe thead th {\n",
       "        text-align: right;\n",
       "    }\n",
       "</style>\n",
       "<table border=\"1\" class=\"dataframe\">\n",
       "  <thead>\n",
       "    <tr style=\"text-align: right;\">\n",
       "      <th></th>\n",
       "      <th>channels</th>\n",
       "      <th>difficulty</th>\n",
       "      <th>duration</th>\n",
       "      <th>id</th>\n",
       "      <th>offer_type</th>\n",
       "      <th>reward</th>\n",
       "    </tr>\n",
       "  </thead>\n",
       "  <tbody>\n",
       "    <tr>\n",
       "      <th>0</th>\n",
       "      <td>[email, mobile, social]</td>\n",
       "      <td>10</td>\n",
       "      <td>7</td>\n",
       "      <td>ae264e3637204a6fb9bb56bc8210ddfd</td>\n",
       "      <td>bogo</td>\n",
       "      <td>10</td>\n",
       "    </tr>\n",
       "    <tr>\n",
       "      <th>1</th>\n",
       "      <td>[web, email, mobile, social]</td>\n",
       "      <td>10</td>\n",
       "      <td>5</td>\n",
       "      <td>4d5c57ea9a6940dd891ad53e9dbe8da0</td>\n",
       "      <td>bogo</td>\n",
       "      <td>10</td>\n",
       "    </tr>\n",
       "    <tr>\n",
       "      <th>2</th>\n",
       "      <td>[web, email, mobile]</td>\n",
       "      <td>0</td>\n",
       "      <td>4</td>\n",
       "      <td>3f207df678b143eea3cee63160fa8bed</td>\n",
       "      <td>informational</td>\n",
       "      <td>0</td>\n",
       "    </tr>\n",
       "    <tr>\n",
       "      <th>3</th>\n",
       "      <td>[web, email, mobile]</td>\n",
       "      <td>5</td>\n",
       "      <td>7</td>\n",
       "      <td>9b98b8c7a33c4b65b9aebfe6a799e6d9</td>\n",
       "      <td>bogo</td>\n",
       "      <td>5</td>\n",
       "    </tr>\n",
       "    <tr>\n",
       "      <th>4</th>\n",
       "      <td>[web, email]</td>\n",
       "      <td>20</td>\n",
       "      <td>10</td>\n",
       "      <td>0b1e1539f2cc45b7b9fa7c272da2e1d7</td>\n",
       "      <td>discount</td>\n",
       "      <td>5</td>\n",
       "    </tr>\n",
       "    <tr>\n",
       "      <th>5</th>\n",
       "      <td>[web, email, mobile, social]</td>\n",
       "      <td>7</td>\n",
       "      <td>7</td>\n",
       "      <td>2298d6c36e964ae4a3e7e9706d1fb8c2</td>\n",
       "      <td>discount</td>\n",
       "      <td>3</td>\n",
       "    </tr>\n",
       "    <tr>\n",
       "      <th>6</th>\n",
       "      <td>[web, email, mobile, social]</td>\n",
       "      <td>10</td>\n",
       "      <td>10</td>\n",
       "      <td>fafdcd668e3743c1bb461111dcafc2a4</td>\n",
       "      <td>discount</td>\n",
       "      <td>2</td>\n",
       "    </tr>\n",
       "    <tr>\n",
       "      <th>7</th>\n",
       "      <td>[email, mobile, social]</td>\n",
       "      <td>0</td>\n",
       "      <td>3</td>\n",
       "      <td>5a8bc65990b245e5a138643cd4eb9837</td>\n",
       "      <td>informational</td>\n",
       "      <td>0</td>\n",
       "    </tr>\n",
       "    <tr>\n",
       "      <th>8</th>\n",
       "      <td>[web, email, mobile, social]</td>\n",
       "      <td>5</td>\n",
       "      <td>5</td>\n",
       "      <td>f19421c1d4aa40978ebb69ca19b0e20d</td>\n",
       "      <td>bogo</td>\n",
       "      <td>5</td>\n",
       "    </tr>\n",
       "    <tr>\n",
       "      <th>9</th>\n",
       "      <td>[web, email, mobile]</td>\n",
       "      <td>10</td>\n",
       "      <td>7</td>\n",
       "      <td>2906b810c7d4411798c6938adc9daaa5</td>\n",
       "      <td>discount</td>\n",
       "      <td>2</td>\n",
       "    </tr>\n",
       "  </tbody>\n",
       "</table>\n",
       "</div>"
      ],
      "text/plain": [
       "                       channels  difficulty  duration  \\\n",
       "0       [email, mobile, social]          10         7   \n",
       "1  [web, email, mobile, social]          10         5   \n",
       "2          [web, email, mobile]           0         4   \n",
       "3          [web, email, mobile]           5         7   \n",
       "4                  [web, email]          20        10   \n",
       "5  [web, email, mobile, social]           7         7   \n",
       "6  [web, email, mobile, social]          10        10   \n",
       "7       [email, mobile, social]           0         3   \n",
       "8  [web, email, mobile, social]           5         5   \n",
       "9          [web, email, mobile]          10         7   \n",
       "\n",
       "                                 id     offer_type  reward  \n",
       "0  ae264e3637204a6fb9bb56bc8210ddfd           bogo      10  \n",
       "1  4d5c57ea9a6940dd891ad53e9dbe8da0           bogo      10  \n",
       "2  3f207df678b143eea3cee63160fa8bed  informational       0  \n",
       "3  9b98b8c7a33c4b65b9aebfe6a799e6d9           bogo       5  \n",
       "4  0b1e1539f2cc45b7b9fa7c272da2e1d7       discount       5  \n",
       "5  2298d6c36e964ae4a3e7e9706d1fb8c2       discount       3  \n",
       "6  fafdcd668e3743c1bb461111dcafc2a4       discount       2  \n",
       "7  5a8bc65990b245e5a138643cd4eb9837  informational       0  \n",
       "8  f19421c1d4aa40978ebb69ca19b0e20d           bogo       5  \n",
       "9  2906b810c7d4411798c6938adc9daaa5       discount       2  "
      ]
     },
     "execution_count": 166,
     "metadata": {},
     "output_type": "execute_result"
    }
   ],
   "source": [
    "portfolio"
   ]
  },
  {
   "cell_type": "markdown",
   "metadata": {},
   "source": [
    "In order to make the offer identifiers for inuitive, we will be adding a new column, 'offer_name', with will be made up of the offer type, the difficulty, the reward and the duration, all seperated by underscores."
   ]
  },
  {
   "cell_type": "code",
   "execution_count": 167,
   "metadata": {},
   "outputs": [],
   "source": [
    "portfolio['offer_name'] = portfolio['offer_type'] + '_' + portfolio['difficulty'].astype(str) + '_' + portfolio['reward'].astype(str) + '_' + portfolio['duration'].astype(str)"
   ]
  },
  {
   "cell_type": "code",
   "execution_count": 168,
   "metadata": {},
   "outputs": [
    {
     "data": {
      "text/html": [
       "<div>\n",
       "<style scoped>\n",
       "    .dataframe tbody tr th:only-of-type {\n",
       "        vertical-align: middle;\n",
       "    }\n",
       "\n",
       "    .dataframe tbody tr th {\n",
       "        vertical-align: top;\n",
       "    }\n",
       "\n",
       "    .dataframe thead th {\n",
       "        text-align: right;\n",
       "    }\n",
       "</style>\n",
       "<table border=\"1\" class=\"dataframe\">\n",
       "  <thead>\n",
       "    <tr style=\"text-align: right;\">\n",
       "      <th></th>\n",
       "      <th>channels</th>\n",
       "      <th>difficulty</th>\n",
       "      <th>duration</th>\n",
       "      <th>id</th>\n",
       "      <th>offer_type</th>\n",
       "      <th>reward</th>\n",
       "      <th>offer_name</th>\n",
       "    </tr>\n",
       "  </thead>\n",
       "  <tbody>\n",
       "    <tr>\n",
       "      <th>0</th>\n",
       "      <td>[email, mobile, social]</td>\n",
       "      <td>10</td>\n",
       "      <td>7</td>\n",
       "      <td>ae264e3637204a6fb9bb56bc8210ddfd</td>\n",
       "      <td>bogo</td>\n",
       "      <td>10</td>\n",
       "      <td>bogo_10_10_7</td>\n",
       "    </tr>\n",
       "    <tr>\n",
       "      <th>1</th>\n",
       "      <td>[web, email, mobile, social]</td>\n",
       "      <td>10</td>\n",
       "      <td>5</td>\n",
       "      <td>4d5c57ea9a6940dd891ad53e9dbe8da0</td>\n",
       "      <td>bogo</td>\n",
       "      <td>10</td>\n",
       "      <td>bogo_10_10_5</td>\n",
       "    </tr>\n",
       "    <tr>\n",
       "      <th>2</th>\n",
       "      <td>[web, email, mobile]</td>\n",
       "      <td>0</td>\n",
       "      <td>4</td>\n",
       "      <td>3f207df678b143eea3cee63160fa8bed</td>\n",
       "      <td>informational</td>\n",
       "      <td>0</td>\n",
       "      <td>informational_0_0_4</td>\n",
       "    </tr>\n",
       "    <tr>\n",
       "      <th>3</th>\n",
       "      <td>[web, email, mobile]</td>\n",
       "      <td>5</td>\n",
       "      <td>7</td>\n",
       "      <td>9b98b8c7a33c4b65b9aebfe6a799e6d9</td>\n",
       "      <td>bogo</td>\n",
       "      <td>5</td>\n",
       "      <td>bogo_5_5_7</td>\n",
       "    </tr>\n",
       "    <tr>\n",
       "      <th>4</th>\n",
       "      <td>[web, email]</td>\n",
       "      <td>20</td>\n",
       "      <td>10</td>\n",
       "      <td>0b1e1539f2cc45b7b9fa7c272da2e1d7</td>\n",
       "      <td>discount</td>\n",
       "      <td>5</td>\n",
       "      <td>discount_20_5_10</td>\n",
       "    </tr>\n",
       "    <tr>\n",
       "      <th>5</th>\n",
       "      <td>[web, email, mobile, social]</td>\n",
       "      <td>7</td>\n",
       "      <td>7</td>\n",
       "      <td>2298d6c36e964ae4a3e7e9706d1fb8c2</td>\n",
       "      <td>discount</td>\n",
       "      <td>3</td>\n",
       "      <td>discount_7_3_7</td>\n",
       "    </tr>\n",
       "    <tr>\n",
       "      <th>6</th>\n",
       "      <td>[web, email, mobile, social]</td>\n",
       "      <td>10</td>\n",
       "      <td>10</td>\n",
       "      <td>fafdcd668e3743c1bb461111dcafc2a4</td>\n",
       "      <td>discount</td>\n",
       "      <td>2</td>\n",
       "      <td>discount_10_2_10</td>\n",
       "    </tr>\n",
       "    <tr>\n",
       "      <th>7</th>\n",
       "      <td>[email, mobile, social]</td>\n",
       "      <td>0</td>\n",
       "      <td>3</td>\n",
       "      <td>5a8bc65990b245e5a138643cd4eb9837</td>\n",
       "      <td>informational</td>\n",
       "      <td>0</td>\n",
       "      <td>informational_0_0_3</td>\n",
       "    </tr>\n",
       "    <tr>\n",
       "      <th>8</th>\n",
       "      <td>[web, email, mobile, social]</td>\n",
       "      <td>5</td>\n",
       "      <td>5</td>\n",
       "      <td>f19421c1d4aa40978ebb69ca19b0e20d</td>\n",
       "      <td>bogo</td>\n",
       "      <td>5</td>\n",
       "      <td>bogo_5_5_5</td>\n",
       "    </tr>\n",
       "    <tr>\n",
       "      <th>9</th>\n",
       "      <td>[web, email, mobile]</td>\n",
       "      <td>10</td>\n",
       "      <td>7</td>\n",
       "      <td>2906b810c7d4411798c6938adc9daaa5</td>\n",
       "      <td>discount</td>\n",
       "      <td>2</td>\n",
       "      <td>discount_10_2_7</td>\n",
       "    </tr>\n",
       "  </tbody>\n",
       "</table>\n",
       "</div>"
      ],
      "text/plain": [
       "                       channels  difficulty  duration  \\\n",
       "0       [email, mobile, social]          10         7   \n",
       "1  [web, email, mobile, social]          10         5   \n",
       "2          [web, email, mobile]           0         4   \n",
       "3          [web, email, mobile]           5         7   \n",
       "4                  [web, email]          20        10   \n",
       "5  [web, email, mobile, social]           7         7   \n",
       "6  [web, email, mobile, social]          10        10   \n",
       "7       [email, mobile, social]           0         3   \n",
       "8  [web, email, mobile, social]           5         5   \n",
       "9          [web, email, mobile]          10         7   \n",
       "\n",
       "                                 id     offer_type  reward  \\\n",
       "0  ae264e3637204a6fb9bb56bc8210ddfd           bogo      10   \n",
       "1  4d5c57ea9a6940dd891ad53e9dbe8da0           bogo      10   \n",
       "2  3f207df678b143eea3cee63160fa8bed  informational       0   \n",
       "3  9b98b8c7a33c4b65b9aebfe6a799e6d9           bogo       5   \n",
       "4  0b1e1539f2cc45b7b9fa7c272da2e1d7       discount       5   \n",
       "5  2298d6c36e964ae4a3e7e9706d1fb8c2       discount       3   \n",
       "6  fafdcd668e3743c1bb461111dcafc2a4       discount       2   \n",
       "7  5a8bc65990b245e5a138643cd4eb9837  informational       0   \n",
       "8  f19421c1d4aa40978ebb69ca19b0e20d           bogo       5   \n",
       "9  2906b810c7d4411798c6938adc9daaa5       discount       2   \n",
       "\n",
       "            offer_name  \n",
       "0         bogo_10_10_7  \n",
       "1         bogo_10_10_5  \n",
       "2  informational_0_0_4  \n",
       "3           bogo_5_5_7  \n",
       "4     discount_20_5_10  \n",
       "5       discount_7_3_7  \n",
       "6     discount_10_2_10  \n",
       "7  informational_0_0_3  \n",
       "8           bogo_5_5_5  \n",
       "9      discount_10_2_7  "
      ]
     },
     "execution_count": 168,
     "metadata": {},
     "output_type": "execute_result"
    }
   ],
   "source": [
    "portfolio"
   ]
  },
  {
   "cell_type": "code",
   "execution_count": 169,
   "metadata": {},
   "outputs": [],
   "source": [
    "ohe_channels = portfolio['channels'].str.join(',').str.get_dummies(',')\n",
    "portfolio = pd.concat([portfolio, ohe_channels], axis = 1)\n",
    "portfolio.drop(['channels'], axis = 1, inplace = True)"
   ]
  },
  {
   "cell_type": "code",
   "execution_count": 170,
   "metadata": {},
   "outputs": [
    {
     "data": {
      "text/html": [
       "<div>\n",
       "<style scoped>\n",
       "    .dataframe tbody tr th:only-of-type {\n",
       "        vertical-align: middle;\n",
       "    }\n",
       "\n",
       "    .dataframe tbody tr th {\n",
       "        vertical-align: top;\n",
       "    }\n",
       "\n",
       "    .dataframe thead th {\n",
       "        text-align: right;\n",
       "    }\n",
       "</style>\n",
       "<table border=\"1\" class=\"dataframe\">\n",
       "  <thead>\n",
       "    <tr style=\"text-align: right;\">\n",
       "      <th></th>\n",
       "      <th>difficulty</th>\n",
       "      <th>duration</th>\n",
       "      <th>id</th>\n",
       "      <th>offer_type</th>\n",
       "      <th>reward</th>\n",
       "      <th>offer_name</th>\n",
       "      <th>email</th>\n",
       "      <th>mobile</th>\n",
       "      <th>social</th>\n",
       "      <th>web</th>\n",
       "    </tr>\n",
       "  </thead>\n",
       "  <tbody>\n",
       "    <tr>\n",
       "      <th>0</th>\n",
       "      <td>10</td>\n",
       "      <td>7</td>\n",
       "      <td>ae264e3637204a6fb9bb56bc8210ddfd</td>\n",
       "      <td>bogo</td>\n",
       "      <td>10</td>\n",
       "      <td>bogo_10_10_7</td>\n",
       "      <td>1</td>\n",
       "      <td>1</td>\n",
       "      <td>1</td>\n",
       "      <td>0</td>\n",
       "    </tr>\n",
       "    <tr>\n",
       "      <th>1</th>\n",
       "      <td>10</td>\n",
       "      <td>5</td>\n",
       "      <td>4d5c57ea9a6940dd891ad53e9dbe8da0</td>\n",
       "      <td>bogo</td>\n",
       "      <td>10</td>\n",
       "      <td>bogo_10_10_5</td>\n",
       "      <td>1</td>\n",
       "      <td>1</td>\n",
       "      <td>1</td>\n",
       "      <td>1</td>\n",
       "    </tr>\n",
       "    <tr>\n",
       "      <th>2</th>\n",
       "      <td>0</td>\n",
       "      <td>4</td>\n",
       "      <td>3f207df678b143eea3cee63160fa8bed</td>\n",
       "      <td>informational</td>\n",
       "      <td>0</td>\n",
       "      <td>informational_0_0_4</td>\n",
       "      <td>1</td>\n",
       "      <td>1</td>\n",
       "      <td>0</td>\n",
       "      <td>1</td>\n",
       "    </tr>\n",
       "    <tr>\n",
       "      <th>3</th>\n",
       "      <td>5</td>\n",
       "      <td>7</td>\n",
       "      <td>9b98b8c7a33c4b65b9aebfe6a799e6d9</td>\n",
       "      <td>bogo</td>\n",
       "      <td>5</td>\n",
       "      <td>bogo_5_5_7</td>\n",
       "      <td>1</td>\n",
       "      <td>1</td>\n",
       "      <td>0</td>\n",
       "      <td>1</td>\n",
       "    </tr>\n",
       "    <tr>\n",
       "      <th>4</th>\n",
       "      <td>20</td>\n",
       "      <td>10</td>\n",
       "      <td>0b1e1539f2cc45b7b9fa7c272da2e1d7</td>\n",
       "      <td>discount</td>\n",
       "      <td>5</td>\n",
       "      <td>discount_20_5_10</td>\n",
       "      <td>1</td>\n",
       "      <td>0</td>\n",
       "      <td>0</td>\n",
       "      <td>1</td>\n",
       "    </tr>\n",
       "    <tr>\n",
       "      <th>5</th>\n",
       "      <td>7</td>\n",
       "      <td>7</td>\n",
       "      <td>2298d6c36e964ae4a3e7e9706d1fb8c2</td>\n",
       "      <td>discount</td>\n",
       "      <td>3</td>\n",
       "      <td>discount_7_3_7</td>\n",
       "      <td>1</td>\n",
       "      <td>1</td>\n",
       "      <td>1</td>\n",
       "      <td>1</td>\n",
       "    </tr>\n",
       "    <tr>\n",
       "      <th>6</th>\n",
       "      <td>10</td>\n",
       "      <td>10</td>\n",
       "      <td>fafdcd668e3743c1bb461111dcafc2a4</td>\n",
       "      <td>discount</td>\n",
       "      <td>2</td>\n",
       "      <td>discount_10_2_10</td>\n",
       "      <td>1</td>\n",
       "      <td>1</td>\n",
       "      <td>1</td>\n",
       "      <td>1</td>\n",
       "    </tr>\n",
       "    <tr>\n",
       "      <th>7</th>\n",
       "      <td>0</td>\n",
       "      <td>3</td>\n",
       "      <td>5a8bc65990b245e5a138643cd4eb9837</td>\n",
       "      <td>informational</td>\n",
       "      <td>0</td>\n",
       "      <td>informational_0_0_3</td>\n",
       "      <td>1</td>\n",
       "      <td>1</td>\n",
       "      <td>1</td>\n",
       "      <td>0</td>\n",
       "    </tr>\n",
       "    <tr>\n",
       "      <th>8</th>\n",
       "      <td>5</td>\n",
       "      <td>5</td>\n",
       "      <td>f19421c1d4aa40978ebb69ca19b0e20d</td>\n",
       "      <td>bogo</td>\n",
       "      <td>5</td>\n",
       "      <td>bogo_5_5_5</td>\n",
       "      <td>1</td>\n",
       "      <td>1</td>\n",
       "      <td>1</td>\n",
       "      <td>1</td>\n",
       "    </tr>\n",
       "    <tr>\n",
       "      <th>9</th>\n",
       "      <td>10</td>\n",
       "      <td>7</td>\n",
       "      <td>2906b810c7d4411798c6938adc9daaa5</td>\n",
       "      <td>discount</td>\n",
       "      <td>2</td>\n",
       "      <td>discount_10_2_7</td>\n",
       "      <td>1</td>\n",
       "      <td>1</td>\n",
       "      <td>0</td>\n",
       "      <td>1</td>\n",
       "    </tr>\n",
       "  </tbody>\n",
       "</table>\n",
       "</div>"
      ],
      "text/plain": [
       "   difficulty  duration                                id     offer_type  \\\n",
       "0          10         7  ae264e3637204a6fb9bb56bc8210ddfd           bogo   \n",
       "1          10         5  4d5c57ea9a6940dd891ad53e9dbe8da0           bogo   \n",
       "2           0         4  3f207df678b143eea3cee63160fa8bed  informational   \n",
       "3           5         7  9b98b8c7a33c4b65b9aebfe6a799e6d9           bogo   \n",
       "4          20        10  0b1e1539f2cc45b7b9fa7c272da2e1d7       discount   \n",
       "5           7         7  2298d6c36e964ae4a3e7e9706d1fb8c2       discount   \n",
       "6          10        10  fafdcd668e3743c1bb461111dcafc2a4       discount   \n",
       "7           0         3  5a8bc65990b245e5a138643cd4eb9837  informational   \n",
       "8           5         5  f19421c1d4aa40978ebb69ca19b0e20d           bogo   \n",
       "9          10         7  2906b810c7d4411798c6938adc9daaa5       discount   \n",
       "\n",
       "   reward           offer_name  email  mobile  social  web  \n",
       "0      10         bogo_10_10_7      1       1       1    0  \n",
       "1      10         bogo_10_10_5      1       1       1    1  \n",
       "2       0  informational_0_0_4      1       1       0    1  \n",
       "3       5           bogo_5_5_7      1       1       0    1  \n",
       "4       5     discount_20_5_10      1       0       0    1  \n",
       "5       3       discount_7_3_7      1       1       1    1  \n",
       "6       2     discount_10_2_10      1       1       1    1  \n",
       "7       0  informational_0_0_3      1       1       1    0  \n",
       "8       5           bogo_5_5_5      1       1       1    1  \n",
       "9       2      discount_10_2_7      1       1       0    1  "
      ]
     },
     "execution_count": 170,
     "metadata": {},
     "output_type": "execute_result"
    }
   ],
   "source": [
    "portfolio"
   ]
  },
  {
   "cell_type": "code",
   "execution_count": 171,
   "metadata": {},
   "outputs": [
    {
     "data": {
      "text/plain": [
       "bogo             4\n",
       "discount         4\n",
       "informational    2\n",
       "Name: offer_type, dtype: int64"
      ]
     },
     "execution_count": 171,
     "metadata": {},
     "output_type": "execute_result"
    }
   ],
   "source": [
    "portfolio['offer_type'].value_counts()"
   ]
  },
  {
   "cell_type": "markdown",
   "metadata": {},
   "source": [
    "## Preliminary Exploration: Transcript"
   ]
  },
  {
   "cell_type": "code",
   "execution_count": 172,
   "metadata": {},
   "outputs": [
    {
     "data": {
      "text/plain": [
       "(306534, 4)"
      ]
     },
     "execution_count": 172,
     "metadata": {},
     "output_type": "execute_result"
    }
   ],
   "source": [
    "transcript.shape"
   ]
  },
  {
   "cell_type": "code",
   "execution_count": 173,
   "metadata": {},
   "outputs": [
    {
     "data": {
      "text/plain": [
       "event     0\n",
       "person    0\n",
       "time      0\n",
       "value     0\n",
       "dtype: int64"
      ]
     },
     "execution_count": 173,
     "metadata": {},
     "output_type": "execute_result"
    }
   ],
   "source": [
    "transcript.isnull().sum()"
   ]
  },
  {
   "cell_type": "code",
   "execution_count": 174,
   "metadata": {},
   "outputs": [
    {
     "data": {
      "text/html": [
       "<div>\n",
       "<style scoped>\n",
       "    .dataframe tbody tr th:only-of-type {\n",
       "        vertical-align: middle;\n",
       "    }\n",
       "\n",
       "    .dataframe tbody tr th {\n",
       "        vertical-align: top;\n",
       "    }\n",
       "\n",
       "    .dataframe thead th {\n",
       "        text-align: right;\n",
       "    }\n",
       "</style>\n",
       "<table border=\"1\" class=\"dataframe\">\n",
       "  <thead>\n",
       "    <tr style=\"text-align: right;\">\n",
       "      <th></th>\n",
       "      <th>event</th>\n",
       "      <th>person</th>\n",
       "      <th>time</th>\n",
       "      <th>value</th>\n",
       "    </tr>\n",
       "  </thead>\n",
       "  <tbody>\n",
       "    <tr>\n",
       "      <th>0</th>\n",
       "      <td>offer received</td>\n",
       "      <td>78afa995795e4d85b5d9ceeca43f5fef</td>\n",
       "      <td>0</td>\n",
       "      <td>{'offer id': '9b98b8c7a33c4b65b9aebfe6a799e6d9'}</td>\n",
       "    </tr>\n",
       "    <tr>\n",
       "      <th>1</th>\n",
       "      <td>offer received</td>\n",
       "      <td>a03223e636434f42ac4c3df47e8bac43</td>\n",
       "      <td>0</td>\n",
       "      <td>{'offer id': '0b1e1539f2cc45b7b9fa7c272da2e1d7'}</td>\n",
       "    </tr>\n",
       "    <tr>\n",
       "      <th>2</th>\n",
       "      <td>offer received</td>\n",
       "      <td>e2127556f4f64592b11af22de27a7932</td>\n",
       "      <td>0</td>\n",
       "      <td>{'offer id': '2906b810c7d4411798c6938adc9daaa5'}</td>\n",
       "    </tr>\n",
       "    <tr>\n",
       "      <th>3</th>\n",
       "      <td>offer received</td>\n",
       "      <td>8ec6ce2a7e7949b1bf142def7d0e0586</td>\n",
       "      <td>0</td>\n",
       "      <td>{'offer id': 'fafdcd668e3743c1bb461111dcafc2a4'}</td>\n",
       "    </tr>\n",
       "    <tr>\n",
       "      <th>4</th>\n",
       "      <td>offer received</td>\n",
       "      <td>68617ca6246f4fbc85e91a2a49552598</td>\n",
       "      <td>0</td>\n",
       "      <td>{'offer id': '4d5c57ea9a6940dd891ad53e9dbe8da0'}</td>\n",
       "    </tr>\n",
       "  </tbody>\n",
       "</table>\n",
       "</div>"
      ],
      "text/plain": [
       "            event                            person  time  \\\n",
       "0  offer received  78afa995795e4d85b5d9ceeca43f5fef     0   \n",
       "1  offer received  a03223e636434f42ac4c3df47e8bac43     0   \n",
       "2  offer received  e2127556f4f64592b11af22de27a7932     0   \n",
       "3  offer received  8ec6ce2a7e7949b1bf142def7d0e0586     0   \n",
       "4  offer received  68617ca6246f4fbc85e91a2a49552598     0   \n",
       "\n",
       "                                              value  \n",
       "0  {'offer id': '9b98b8c7a33c4b65b9aebfe6a799e6d9'}  \n",
       "1  {'offer id': '0b1e1539f2cc45b7b9fa7c272da2e1d7'}  \n",
       "2  {'offer id': '2906b810c7d4411798c6938adc9daaa5'}  \n",
       "3  {'offer id': 'fafdcd668e3743c1bb461111dcafc2a4'}  \n",
       "4  {'offer id': '4d5c57ea9a6940dd891ad53e9dbe8da0'}  "
      ]
     },
     "execution_count": 174,
     "metadata": {},
     "output_type": "execute_result"
    }
   ],
   "source": [
    "transcript.head()"
   ]
  },
  {
   "cell_type": "code",
   "execution_count": 175,
   "metadata": {},
   "outputs": [
    {
     "data": {
      "image/png": "[encoded data removed]",
      "text/plain": [
       "<Figure size 432x288 with 1 Axes>"
      ]
     },
     "metadata": {},
     "output_type": "display_data"
    }
   ],
   "source": [
    "transcript['event'].value_counts().plot(kind = 'barh', color = 'teal')\n",
    "plt.title('Event Distribution', fontsize = 14, y = 1.02)\n",
    "plt.ylabel('Event', fontsize= 12)\n",
    "plt.xlabel('Count', fontsize= 12)\n",
    "plt.show()"
   ]
  },
  {
   "cell_type": "markdown",
   "metadata": {},
   "source": [
    "We have a large proportion of data for transaction which indicates an effective offer."
   ]
  },
  {
   "cell_type": "markdown",
   "metadata": {},
   "source": [
    "Before we can continue to draw more insights from the transcript dataset, it might be useful to merge all three datasets. But first, we have to deal with the missing values in the profile dataset."
   ]
  },
  {
   "cell_type": "code",
   "execution_count": 176,
   "metadata": {},
   "outputs": [],
   "source": [
    "profile.dropna(inplace = True)"
   ]
  },
  {
   "cell_type": "code",
   "execution_count": 177,
   "metadata": {},
   "outputs": [],
   "source": [
    "profile.rename(columns = {'id' : 'person'}, inplace = True)"
   ]
  },
  {
   "cell_type": "code",
   "execution_count": 178,
   "metadata": {},
   "outputs": [],
   "source": [
    "transcript['trans_amount'] = 0\n",
    "transcript['offer_id'] = np.nan"
   ]
  },
  {
   "cell_type": "markdown",
   "metadata": {},
   "source": [
    "Now, we have to  extract the offer id for each entry and the transaction amount for entries with transaction.."
   ]
  },
  {
   "cell_type": "code",
   "execution_count": 179,
   "metadata": {},
   "outputs": [],
   "source": [
    "def return_trans_amount(dic):\n",
    "    if 'amount' in dic.keys():\n",
    "        return dic['amount']\n",
    "    else:\n",
    "        return 0\n",
    "\n",
    "def return_offer_id(dic):\n",
    "    if 'offer id' in dic.keys():\n",
    "        return dic['offer id']\n",
    "    elif 'offer_id' in dic.keys():\n",
    "        return dic['offer_id']\n",
    "    else:\n",
    "        return np.nan"
   ]
  },
  {
   "cell_type": "code",
   "execution_count": 180,
   "metadata": {},
   "outputs": [],
   "source": [
    "transcript['trans_amount'] = transcript['value'].apply(lambda x: return_trans_amount(x))\n",
    "transcript['offer_id'] = transcript['value'].apply(lambda x: return_offer_id(x))"
   ]
  },
  {
   "cell_type": "code",
   "execution_count": 181,
   "metadata": {},
   "outputs": [],
   "source": [
    "portfolio.rename(columns = {'id' : 'offer_id'}, inplace = True)"
   ]
  },
  {
   "cell_type": "code",
   "execution_count": 182,
   "metadata": {},
   "outputs": [],
   "source": [
    "transcript = transcript.merge(portfolio, how = 'left', on = 'offer_id')"
   ]
  },
  {
   "cell_type": "code",
   "execution_count": 183,
   "metadata": {},
   "outputs": [],
   "source": [
    "transcript.drop(['value'], inplace = True, axis = 1)"
   ]
  },
  {
   "cell_type": "code",
   "execution_count": 184,
   "metadata": {},
   "outputs": [
    {
     "data": {
      "text/html": [
       "<div>\n",
       "<style scoped>\n",
       "    .dataframe tbody tr th:only-of-type {\n",
       "        vertical-align: middle;\n",
       "    }\n",
       "\n",
       "    .dataframe tbody tr th {\n",
       "        vertical-align: top;\n",
       "    }\n",
       "\n",
       "    .dataframe thead th {\n",
       "        text-align: right;\n",
       "    }\n",
       "</style>\n",
       "<table border=\"1\" class=\"dataframe\">\n",
       "  <thead>\n",
       "    <tr style=\"text-align: right;\">\n",
       "      <th></th>\n",
       "      <th>event</th>\n",
       "      <th>person</th>\n",
       "      <th>time</th>\n",
       "      <th>trans_amount</th>\n",
       "      <th>offer_id</th>\n",
       "      <th>difficulty</th>\n",
       "      <th>duration</th>\n",
       "      <th>offer_type</th>\n",
       "      <th>reward</th>\n",
       "      <th>offer_name</th>\n",
       "      <th>email</th>\n",
       "      <th>mobile</th>\n",
       "      <th>social</th>\n",
       "      <th>web</th>\n",
       "    </tr>\n",
       "  </thead>\n",
       "  <tbody>\n",
       "    <tr>\n",
       "      <th>0</th>\n",
       "      <td>offer received</td>\n",
       "      <td>78afa995795e4d85b5d9ceeca43f5fef</td>\n",
       "      <td>0</td>\n",
       "      <td>0.0</td>\n",
       "      <td>9b98b8c7a33c4b65b9aebfe6a799e6d9</td>\n",
       "      <td>5.0</td>\n",
       "      <td>7.0</td>\n",
       "      <td>bogo</td>\n",
       "      <td>5.0</td>\n",
       "      <td>bogo_5_5_7</td>\n",
       "      <td>1.0</td>\n",
       "      <td>1.0</td>\n",
       "      <td>0.0</td>\n",
       "      <td>1.0</td>\n",
       "    </tr>\n",
       "    <tr>\n",
       "      <th>1</th>\n",
       "      <td>offer received</td>\n",
       "      <td>a03223e636434f42ac4c3df47e8bac43</td>\n",
       "      <td>0</td>\n",
       "      <td>0.0</td>\n",
       "      <td>0b1e1539f2cc45b7b9fa7c272da2e1d7</td>\n",
       "      <td>20.0</td>\n",
       "      <td>10.0</td>\n",
       "      <td>discount</td>\n",
       "      <td>5.0</td>\n",
       "      <td>discount_20_5_10</td>\n",
       "      <td>1.0</td>\n",
       "      <td>0.0</td>\n",
       "      <td>0.0</td>\n",
       "      <td>1.0</td>\n",
       "    </tr>\n",
       "    <tr>\n",
       "      <th>2</th>\n",
       "      <td>offer received</td>\n",
       "      <td>e2127556f4f64592b11af22de27a7932</td>\n",
       "      <td>0</td>\n",
       "      <td>0.0</td>\n",
       "      <td>2906b810c7d4411798c6938adc9daaa5</td>\n",
       "      <td>10.0</td>\n",
       "      <td>7.0</td>\n",
       "      <td>discount</td>\n",
       "      <td>2.0</td>\n",
       "      <td>discount_10_2_7</td>\n",
       "      <td>1.0</td>\n",
       "      <td>1.0</td>\n",
       "      <td>0.0</td>\n",
       "      <td>1.0</td>\n",
       "    </tr>\n",
       "    <tr>\n",
       "      <th>3</th>\n",
       "      <td>offer received</td>\n",
       "      <td>8ec6ce2a7e7949b1bf142def7d0e0586</td>\n",
       "      <td>0</td>\n",
       "      <td>0.0</td>\n",
       "      <td>fafdcd668e3743c1bb461111dcafc2a4</td>\n",
       "      <td>10.0</td>\n",
       "      <td>10.0</td>\n",
       "      <td>discount</td>\n",
       "      <td>2.0</td>\n",
       "      <td>discount_10_2_10</td>\n",
       "      <td>1.0</td>\n",
       "      <td>1.0</td>\n",
       "      <td>1.0</td>\n",
       "      <td>1.0</td>\n",
       "    </tr>\n",
       "    <tr>\n",
       "      <th>4</th>\n",
       "      <td>offer received</td>\n",
       "      <td>68617ca6246f4fbc85e91a2a49552598</td>\n",
       "      <td>0</td>\n",
       "      <td>0.0</td>\n",
       "      <td>4d5c57ea9a6940dd891ad53e9dbe8da0</td>\n",
       "      <td>10.0</td>\n",
       "      <td>5.0</td>\n",
       "      <td>bogo</td>\n",
       "      <td>10.0</td>\n",
       "      <td>bogo_10_10_5</td>\n",
       "      <td>1.0</td>\n",
       "      <td>1.0</td>\n",
       "      <td>1.0</td>\n",
       "      <td>1.0</td>\n",
       "    </tr>\n",
       "  </tbody>\n",
       "</table>\n",
       "</div>"
      ],
      "text/plain": [
       "            event                            person  time  trans_amount  \\\n",
       "0  offer received  78afa995795e4d85b5d9ceeca43f5fef     0           0.0   \n",
       "1  offer received  a03223e636434f42ac4c3df47e8bac43     0           0.0   \n",
       "2  offer received  e2127556f4f64592b11af22de27a7932     0           0.0   \n",
       "3  offer received  8ec6ce2a7e7949b1bf142def7d0e0586     0           0.0   \n",
       "4  offer received  68617ca6246f4fbc85e91a2a49552598     0           0.0   \n",
       "\n",
       "                           offer_id  difficulty  duration offer_type  reward  \\\n",
       "0  9b98b8c7a33c4b65b9aebfe6a799e6d9         5.0       7.0       bogo     5.0   \n",
       "1  0b1e1539f2cc45b7b9fa7c272da2e1d7        20.0      10.0   discount     5.0   \n",
       "2  2906b810c7d4411798c6938adc9daaa5        10.0       7.0   discount     2.0   \n",
       "3  fafdcd668e3743c1bb461111dcafc2a4        10.0      10.0   discount     2.0   \n",
       "4  4d5c57ea9a6940dd891ad53e9dbe8da0        10.0       5.0       bogo    10.0   \n",
       "\n",
       "         offer_name  email  mobile  social  web  \n",
       "0        bogo_5_5_7    1.0     1.0     0.0  1.0  \n",
       "1  discount_20_5_10    1.0     0.0     0.0  1.0  \n",
       "2   discount_10_2_7    1.0     1.0     0.0  1.0  \n",
       "3  discount_10_2_10    1.0     1.0     1.0  1.0  \n",
       "4      bogo_10_10_5    1.0     1.0     1.0  1.0  "
      ]
     },
     "execution_count": 184,
     "metadata": {},
     "output_type": "execute_result"
    }
   ],
   "source": [
    "transcript.head()"
   ]
  },
  {
   "cell_type": "code",
   "execution_count": 185,
   "metadata": {},
   "outputs": [
    {
     "data": {
      "image/png": "[encoded data removed]",
      "text/plain": [
       "<Figure size 432x288 with 1 Axes>"
      ]
     },
     "metadata": {},
     "output_type": "display_data"
    }
   ],
   "source": [
    "transcript['offer_type'].value_counts().plot(kind = 'barh', color = 'teal');"
   ]
  },
  {
   "cell_type": "markdown",
   "metadata": {},
   "source": [
    "Bogo and discount offers were sent out in almost equal amounts and informational offers went out less than half of that for bogo and discount."
   ]
  },
  {
   "cell_type": "code",
   "execution_count": 186,
   "metadata": {},
   "outputs": [
    {
     "data": {
      "image/png": "[encoded data removed]",
      "text/plain": [
       "<Figure size 432x288 with 1 Axes>"
      ]
     },
     "metadata": {},
     "output_type": "display_data"
    }
   ],
   "source": [
    "transcript.groupby('offer_type')['web', 'email', 'mobile', 'social'].sum().plot(kind = 'bar')\n",
    "plt.xticks(rotation = 0)\n",
    "\n",
    "plt.show()"
   ]
  },
  {
   "cell_type": "markdown",
   "metadata": {},
   "source": [
    "For bogo and informational offers, the most used channels were email and mobile. For both these offers, social was the next most used followed by web. In case of discount offers, the most used channels were web and email, followed by mobile and then social."
   ]
  },
  {
   "cell_type": "code",
   "execution_count": 187,
   "metadata": {},
   "outputs": [
    {
     "data": {
      "image/png": "[encoded data removed]",
      "text/plain": [
       "<Figure size 432x288 with 1 Axes>"
      ]
     },
     "metadata": {},
     "output_type": "display_data"
    }
   ],
   "source": [
    "transcript[['web', 'email', 'mobile', 'social']].sum().plot('barh', color ='maroon');"
   ]
  },
  {
   "cell_type": "code",
   "execution_count": 188,
   "metadata": {},
   "outputs": [
    {
     "data": {
      "text/plain": [
       "<matplotlib.axes._subplots.AxesSubplot at 0x24c8eb52f28>"
      ]
     },
     "execution_count": 188,
     "metadata": {},
     "output_type": "execute_result"
    },
    {
     "data": {
      "image/png": "[encoded data removed]",
      "text/plain": [
       "<Figure size 720x360 with 1 Axes>"
      ]
     },
     "metadata": {},
     "output_type": "display_data"
    }
   ],
   "source": [
    "transcript.groupby(['event', 'offer_type'])['offer_type'].count().unstack(0).plot.barh(figsize = (10,5))"
   ]
  },
  {
   "cell_type": "code",
   "execution_count": 189,
   "metadata": {},
   "outputs": [],
   "source": [
    "transcript = transcript.sort_values(['person', 'time'])"
   ]
  },
  {
   "cell_type": "code",
   "execution_count": 190,
   "metadata": {},
   "outputs": [],
   "source": [
    "#filtering transactions that occured after the viewing of an offer and filling in the offer id\n",
    "trans_viewed = transcript[(transcript['event']=='transaction') | (transcript['event']=='offer viewed')].sort_values(['person', 'time']).fillna(method = 'ffill')"
   ]
  },
  {
   "cell_type": "code",
   "execution_count": 191,
   "metadata": {},
   "outputs": [],
   "source": [
    "transcript.loc[trans_viewed.index] = trans_viewed"
   ]
  },
  {
   "cell_type": "code",
   "execution_count": 192,
   "metadata": {},
   "outputs": [],
   "source": [
    "transcript.reset_index(inplace = True, drop = True)\n"
   ]
  },
  {
   "cell_type": "markdown",
   "metadata": {},
   "source": [
    "Finally, in the last step of data wrangling of this project, we will be combining the profile and the trascript dataset in a way that tells us if an user recieved a particular offer, how much in total they spent and how much they were influenced by offers. This will be achieved in the following steps:\n",
    "1. A new dataframe will be created were the index is the person id from profile and the columns are the different offer ids from portfolio. Along with the offer ids, there will be 3 additional columns: \n",
    "    * trans_for_offer: transactions made under the influence of offers.\n",
    "    * trans_count: number of transactions made by the user.\n",
    "    * trans_total: total amount of transactions made by the user.\n",
    "2. Iterate through all the user ids in the dataset and for each user:\n",
    "    * Get all the transaction records for the user.\n",
    "    * For bogo and discount offers, if the offer is recieved, viewed and completed before it expires, add a 1 to the corresponding offer column.\n",
    "    * For bogo and discount offers, if the offer is recieved, viewed and not completed before it expires, add a 0 to the corresponding offer column.\n",
    "    * For informational offers, if the offer is recieved, viewed and if there is a transaction before the offer expires, add a 1 to the corresponding offer column.\n",
    "    * For informational offers, if the offer is recieved, viewed and if there is no transaction before the offer expires, add a 0 to the corresponding offer column.\n",
    "    * Count the number of times each offer is effective for the user, ie offer is completed or viewed before expiry.\n",
    "    * Total amount of transactions made by the user is added to the trans_total column.\n",
    "    * Divide each offer score by the number of times each offer is effective for the user.\n",
    "    * Transaction amounts for successful offers are added to trans_for_offer.\n",
    "    * Average transaction for the user is caluclated by dividing the total trasnaction for the user by the total number of transactions.\n",
    "    * Finally, the percentage of the transaction made due to the influence of an offer is calculated by dividing the transactions made due to offers by the total transactions."
   ]
  },
  {
   "cell_type": "code",
   "execution_count": 193,
   "metadata": {},
   "outputs": [],
   "source": [
    "cols = portfolio['offer_id'].tolist()\n",
    "new_df1 = pd.DataFrame(np.nan, index = profile['person'].tolist(), columns = cols)\n",
    "cols_new = ['trans_for_offer','trans_count','trans_total']\n",
    "new_df2 = pd.DataFrame(np.zeros((profile.shape[0], 3)), index = profile['person'].tolist(), columns = cols_new)\n",
    "profile_trans = pd.concat([new_df1, new_df2], axis = 1)"
   ]
  },
  {
   "cell_type": "code",
   "execution_count": 194,
   "metadata": {},
   "outputs": [],
   "source": [
    "def get_trans_recs(person):\n",
    "    \n",
    "    '''Fetches transaction records from transcript dataset for \n",
    "    a particular user.\n",
    "    \n",
    "    INPUT:\n",
    "        person (str): id of user\n",
    "    OUTPUT:\n",
    "        trans_recs (dataframe): transaction record for the particular user\n",
    "    '''\n",
    "    \n",
    "    trans_recs = transcript[transcript['person'] == person].reset_index(drop=True)\n",
    "    \n",
    "    return trans_recs"
   ]
  },
  {
   "cell_type": "code",
   "execution_count": 195,
   "metadata": {},
   "outputs": [
    {
     "name": "stderr",
     "output_type": "stream",
     "text": [
      "[======================================================================== ] 99%\r"
     ]
    }
   ],
   "source": [
    "bogo_discount_offer_ids = portfolio[portfolio['offer_type'].isin(['bogo', 'discount'])]['offer_id'].values\n",
    "\n",
    "cnter = 0\n",
    "pbar = progressbar.ProgressBar(maxval=profile_trans.shape[0], widgets=[progressbar.Bar('=', '[', ']'), progressbar.Percentage()])\n",
    "pbar.start()\n",
    "\n",
    "for person_ind in range(profile_trans.shape[0]):\n",
    "    cnter+=1 \n",
    "    pbar.update(cnter)\n",
    "    \n",
    "    person = profile_trans.index[person_ind]\n",
    "    trans_recs = get_trans_recs(person)\n",
    "    offer_view_count = defaultdict(int)\n",
    "    offer_comp_count = defaultdict(int)\n",
    "    off_rec_ind = trans_recs[trans_recs['event'] == 'offer received'].index.values\n",
    "    transactions = trans_recs[trans_recs.event == 'transaction']\n",
    "    profile_trans.loc[person, 'trans_count'] = transactions.shape[0]\n",
    "    profile_trans.loc[person, 'trans_total'] = transactions['trans_amount'].sum()\n",
    "\n",
    "    trans_off_ind = []\n",
    "    \n",
    "    for r_i in off_rec_ind:\n",
    "        offer_id = trans_recs.loc[r_i, 'offer_id']\n",
    "        offer_valid_for = int(portfolio[portfolio['offer_id'] == offer_id]['duration']) * 24\n",
    "        offer_start = trans_recs.loc[r_i, 'time']\n",
    "        offer_end = offer_start + offer_valid_for\n",
    "        \n",
    "        viewed = trans_recs[(trans_recs['offer_id'] == offer_id) &\n",
    "                           (trans_recs['event'] == 'offer viewed') &\n",
    "                           (trans_recs['time'] >= offer_start) &\n",
    "                           (trans_recs['time'] <= offer_end)]\n",
    "        \n",
    "        if viewed.shape[0] < 1:\n",
    "            continue\n",
    "        \n",
    "        else:\n",
    "            if offer_id in bogo_discount_offer_ids:\n",
    "                completed = trans_recs[(trans_recs['offer_id'] == offer_id) &\n",
    "                           (trans_recs['event'] == 'offer completed') &\n",
    "                           (trans_recs['time'] >= offer_start) &\n",
    "                           (trans_recs['time'] <= offer_end)]\n",
    "                if completed.shape[0] < 1 :\n",
    "                    offer_view_count[offer_id] += 1\n",
    "                    offer_comp_count[offer_id] += 0\n",
    "                else:\n",
    "                    view_ind = viewed.index[0]\n",
    "                    comp_ind = completed.index[0]\n",
    "                    if view_ind < comp_ind:\n",
    "                        offer_view_count[offer_id] += 1\n",
    "                        offer_comp_count[offer_id] += 1\n",
    "                        trans_off_ind.extend(transactions.loc[view_ind:comp_ind].index.values)\n",
    "                    else:\n",
    "                        continue\n",
    "            else:\n",
    "                view_time = viewed.iloc[0]['time']\n",
    "                offer_view_count[offer_id] +=1\n",
    "                info_trans = trans_recs[(trans_recs['event'] == 'transaction') &\n",
    "                                       (trans_recs['time'] >= view_time) &\n",
    "                                       (trans_recs['time'] <= offer_end)]\n",
    "                if info_trans.shape[0] > 0:\n",
    "                    offer_comp_count[offer_id] += 1\n",
    "                else:\n",
    "                    offer_comp_count[offer_id] += 0\n",
    "    \n",
    "    for off_id in offer_view_count.keys():\n",
    "        profile_trans.loc[person, off_id] = offer_comp_count[off_id]/offer_view_count[off_id]\n",
    "        \n",
    "    if len(trans_off_ind) > 0:\n",
    "        profile_trans.loc[person, 'trans_for_offer'] = transactions.loc[list(set(trans_off_ind))]['trans_amount'].sum()\n",
    "                        "
   ]
  },
  {
   "cell_type": "code",
   "execution_count": 196,
   "metadata": {},
   "outputs": [],
   "source": [
    "profile_trans['avg_trans'] = (profile_trans['trans_total']/profile_trans['trans_count'] + 0.001)\n",
    "profile_trans['trans_offer_ratio'] = (profile_trans['trans_for_offer']/profile_trans['trans_total'] + 0.001)\n",
    "profile_trans.drop(['trans_for_offer', 'trans_count'], inplace=True, axis=1)"
   ]
  },
  {
   "cell_type": "code",
   "execution_count": 197,
   "metadata": {},
   "outputs": [],
   "source": [
    "profile.set_index(['person'], inplace=True, drop=True)\n",
    "profile.index.name = None"
   ]
  },
  {
   "cell_type": "code",
   "execution_count": 198,
   "metadata": {},
   "outputs": [],
   "source": [
    "profile_trans = profile_trans.join(profile)"
   ]
  },
  {
   "cell_type": "code",
   "execution_count": 199,
   "metadata": {},
   "outputs": [
    {
     "data": {
      "text/plain": [
       "(14825, 19)"
      ]
     },
     "execution_count": 199,
     "metadata": {},
     "output_type": "execute_result"
    }
   ],
   "source": [
    "profile_trans.shape"
   ]
  },
  {
   "cell_type": "code",
   "execution_count": 200,
   "metadata": {},
   "outputs": [],
   "source": [
    "profile_trans.to_csv('profile_trans.csv')"
   ]
  },
  {
   "cell_type": "code",
   "execution_count": 201,
   "metadata": {},
   "outputs": [
    {
     "data": {
      "text/html": [
       "<div>\n",
       "<style scoped>\n",
       "    .dataframe tbody tr th:only-of-type {\n",
       "        vertical-align: middle;\n",
       "    }\n",
       "\n",
       "    .dataframe tbody tr th {\n",
       "        vertical-align: top;\n",
       "    }\n",
       "\n",
       "    .dataframe thead th {\n",
       "        text-align: right;\n",
       "    }\n",
       "</style>\n",
       "<table border=\"1\" class=\"dataframe\">\n",
       "  <thead>\n",
       "    <tr style=\"text-align: right;\">\n",
       "      <th></th>\n",
       "      <th>ae264e3637204a6fb9bb56bc8210ddfd</th>\n",
       "      <th>4d5c57ea9a6940dd891ad53e9dbe8da0</th>\n",
       "      <th>3f207df678b143eea3cee63160fa8bed</th>\n",
       "      <th>9b98b8c7a33c4b65b9aebfe6a799e6d9</th>\n",
       "      <th>0b1e1539f2cc45b7b9fa7c272da2e1d7</th>\n",
       "      <th>2298d6c36e964ae4a3e7e9706d1fb8c2</th>\n",
       "      <th>fafdcd668e3743c1bb461111dcafc2a4</th>\n",
       "      <th>5a8bc65990b245e5a138643cd4eb9837</th>\n",
       "      <th>f19421c1d4aa40978ebb69ca19b0e20d</th>\n",
       "      <th>2906b810c7d4411798c6938adc9daaa5</th>\n",
       "      <th>trans_total</th>\n",
       "      <th>avg_trans</th>\n",
       "      <th>trans_offer_ratio</th>\n",
       "      <th>age</th>\n",
       "      <th>became_member_on</th>\n",
       "      <th>gender</th>\n",
       "      <th>income</th>\n",
       "      <th>member_since_year</th>\n",
       "      <th>member_for_days</th>\n",
       "    </tr>\n",
       "  </thead>\n",
       "  <tbody>\n",
       "    <tr>\n",
       "      <th>0610b486422d4921ae7d2bf64640c50b</th>\n",
       "      <td>NaN</td>\n",
       "      <td>NaN</td>\n",
       "      <td>NaN</td>\n",
       "      <td>NaN</td>\n",
       "      <td>NaN</td>\n",
       "      <td>NaN</td>\n",
       "      <td>NaN</td>\n",
       "      <td>NaN</td>\n",
       "      <td>NaN</td>\n",
       "      <td>NaN</td>\n",
       "      <td>77.01</td>\n",
       "      <td>25.671000</td>\n",
       "      <td>0.001000</td>\n",
       "      <td>55.0</td>\n",
       "      <td>2017-07-15</td>\n",
       "      <td>F</td>\n",
       "      <td>112000.0</td>\n",
       "      <td>2017</td>\n",
       "      <td>438.0</td>\n",
       "    </tr>\n",
       "    <tr>\n",
       "      <th>78afa995795e4d85b5d9ceeca43f5fef</th>\n",
       "      <td>1.0</td>\n",
       "      <td>NaN</td>\n",
       "      <td>NaN</td>\n",
       "      <td>1.0</td>\n",
       "      <td>NaN</td>\n",
       "      <td>NaN</td>\n",
       "      <td>NaN</td>\n",
       "      <td>1.0</td>\n",
       "      <td>NaN</td>\n",
       "      <td>NaN</td>\n",
       "      <td>159.27</td>\n",
       "      <td>22.753857</td>\n",
       "      <td>0.262254</td>\n",
       "      <td>75.0</td>\n",
       "      <td>2017-05-09</td>\n",
       "      <td>F</td>\n",
       "      <td>100000.0</td>\n",
       "      <td>2017</td>\n",
       "      <td>505.0</td>\n",
       "    </tr>\n",
       "    <tr>\n",
       "      <th>e2127556f4f64592b11af22de27a7932</th>\n",
       "      <td>NaN</td>\n",
       "      <td>NaN</td>\n",
       "      <td>NaN</td>\n",
       "      <td>1.0</td>\n",
       "      <td>NaN</td>\n",
       "      <td>NaN</td>\n",
       "      <td>1.0</td>\n",
       "      <td>NaN</td>\n",
       "      <td>NaN</td>\n",
       "      <td>0.0</td>\n",
       "      <td>57.73</td>\n",
       "      <td>19.244333</td>\n",
       "      <td>0.320072</td>\n",
       "      <td>68.0</td>\n",
       "      <td>2018-04-26</td>\n",
       "      <td>M</td>\n",
       "      <td>70000.0</td>\n",
       "      <td>2018</td>\n",
       "      <td>153.0</td>\n",
       "    </tr>\n",
       "    <tr>\n",
       "      <th>389bc3fa690240e798340f5a15918d5c</th>\n",
       "      <td>NaN</td>\n",
       "      <td>NaN</td>\n",
       "      <td>NaN</td>\n",
       "      <td>0.5</td>\n",
       "      <td>NaN</td>\n",
       "      <td>NaN</td>\n",
       "      <td>1.0</td>\n",
       "      <td>NaN</td>\n",
       "      <td>1.0</td>\n",
       "      <td>1.0</td>\n",
       "      <td>36.43</td>\n",
       "      <td>12.144333</td>\n",
       "      <td>1.001000</td>\n",
       "      <td>65.0</td>\n",
       "      <td>2018-02-09</td>\n",
       "      <td>M</td>\n",
       "      <td>53000.0</td>\n",
       "      <td>2018</td>\n",
       "      <td>229.0</td>\n",
       "    </tr>\n",
       "    <tr>\n",
       "      <th>2eeac8d8feae4a8cad5a6af0499a211d</th>\n",
       "      <td>NaN</td>\n",
       "      <td>NaN</td>\n",
       "      <td>NaN</td>\n",
       "      <td>NaN</td>\n",
       "      <td>NaN</td>\n",
       "      <td>0.0</td>\n",
       "      <td>1.0</td>\n",
       "      <td>NaN</td>\n",
       "      <td>NaN</td>\n",
       "      <td>NaN</td>\n",
       "      <td>15.62</td>\n",
       "      <td>3.906000</td>\n",
       "      <td>0.796775</td>\n",
       "      <td>58.0</td>\n",
       "      <td>2017-11-11</td>\n",
       "      <td>M</td>\n",
       "      <td>51000.0</td>\n",
       "      <td>2017</td>\n",
       "      <td>319.0</td>\n",
       "    </tr>\n",
       "  </tbody>\n",
       "</table>\n",
       "</div>"
      ],
      "text/plain": [
       "                                  ae264e3637204a6fb9bb56bc8210ddfd  \\\n",
       "0610b486422d4921ae7d2bf64640c50b                               NaN   \n",
       "78afa995795e4d85b5d9ceeca43f5fef                               1.0   \n",
       "e2127556f4f64592b11af22de27a7932                               NaN   \n",
       "389bc3fa690240e798340f5a15918d5c                               NaN   \n",
       "2eeac8d8feae4a8cad5a6af0499a211d                               NaN   \n",
       "\n",
       "                                  4d5c57ea9a6940dd891ad53e9dbe8da0  \\\n",
       "0610b486422d4921ae7d2bf64640c50b                               NaN   \n",
       "78afa995795e4d85b5d9ceeca43f5fef                               NaN   \n",
       "e2127556f4f64592b11af22de27a7932                               NaN   \n",
       "389bc3fa690240e798340f5a15918d5c                               NaN   \n",
       "2eeac8d8feae4a8cad5a6af0499a211d                               NaN   \n",
       "\n",
       "                                  3f207df678b143eea3cee63160fa8bed  \\\n",
       "0610b486422d4921ae7d2bf64640c50b                               NaN   \n",
       "78afa995795e4d85b5d9ceeca43f5fef                               NaN   \n",
       "e2127556f4f64592b11af22de27a7932                               NaN   \n",
       "389bc3fa690240e798340f5a15918d5c                               NaN   \n",
       "2eeac8d8feae4a8cad5a6af0499a211d                               NaN   \n",
       "\n",
       "                                  9b98b8c7a33c4b65b9aebfe6a799e6d9  \\\n",
       "0610b486422d4921ae7d2bf64640c50b                               NaN   \n",
       "78afa995795e4d85b5d9ceeca43f5fef                               1.0   \n",
       "e2127556f4f64592b11af22de27a7932                               1.0   \n",
       "389bc3fa690240e798340f5a15918d5c                               0.5   \n",
       "2eeac8d8feae4a8cad5a6af0499a211d                               NaN   \n",
       "\n",
       "                                  0b1e1539f2cc45b7b9fa7c272da2e1d7  \\\n",
       "0610b486422d4921ae7d2bf64640c50b                               NaN   \n",
       "78afa995795e4d85b5d9ceeca43f5fef                               NaN   \n",
       "e2127556f4f64592b11af22de27a7932                               NaN   \n",
       "389bc3fa690240e798340f5a15918d5c                               NaN   \n",
       "2eeac8d8feae4a8cad5a6af0499a211d                               NaN   \n",
       "\n",
       "                                  2298d6c36e964ae4a3e7e9706d1fb8c2  \\\n",
       "0610b486422d4921ae7d2bf64640c50b                               NaN   \n",
       "78afa995795e4d85b5d9ceeca43f5fef                               NaN   \n",
       "e2127556f4f64592b11af22de27a7932                               NaN   \n",
       "389bc3fa690240e798340f5a15918d5c                               NaN   \n",
       "2eeac8d8feae4a8cad5a6af0499a211d                               0.0   \n",
       "\n",
       "                                  fafdcd668e3743c1bb461111dcafc2a4  \\\n",
       "0610b486422d4921ae7d2bf64640c50b                               NaN   \n",
       "78afa995795e4d85b5d9ceeca43f5fef                               NaN   \n",
       "e2127556f4f64592b11af22de27a7932                               1.0   \n",
       "389bc3fa690240e798340f5a15918d5c                               1.0   \n",
       "2eeac8d8feae4a8cad5a6af0499a211d                               1.0   \n",
       "\n",
       "                                  5a8bc65990b245e5a138643cd4eb9837  \\\n",
       "0610b486422d4921ae7d2bf64640c50b                               NaN   \n",
       "78afa995795e4d85b5d9ceeca43f5fef                               1.0   \n",
       "e2127556f4f64592b11af22de27a7932                               NaN   \n",
       "389bc3fa690240e798340f5a15918d5c                               NaN   \n",
       "2eeac8d8feae4a8cad5a6af0499a211d                               NaN   \n",
       "\n",
       "                                  f19421c1d4aa40978ebb69ca19b0e20d  \\\n",
       "0610b486422d4921ae7d2bf64640c50b                               NaN   \n",
       "78afa995795e4d85b5d9ceeca43f5fef                               NaN   \n",
       "e2127556f4f64592b11af22de27a7932                               NaN   \n",
       "389bc3fa690240e798340f5a15918d5c                               1.0   \n",
       "2eeac8d8feae4a8cad5a6af0499a211d                               NaN   \n",
       "\n",
       "                                  2906b810c7d4411798c6938adc9daaa5  \\\n",
       "0610b486422d4921ae7d2bf64640c50b                               NaN   \n",
       "78afa995795e4d85b5d9ceeca43f5fef                               NaN   \n",
       "e2127556f4f64592b11af22de27a7932                               0.0   \n",
       "389bc3fa690240e798340f5a15918d5c                               1.0   \n",
       "2eeac8d8feae4a8cad5a6af0499a211d                               NaN   \n",
       "\n",
       "                                  trans_total  avg_trans  trans_offer_ratio  \\\n",
       "0610b486422d4921ae7d2bf64640c50b        77.01  25.671000           0.001000   \n",
       "78afa995795e4d85b5d9ceeca43f5fef       159.27  22.753857           0.262254   \n",
       "e2127556f4f64592b11af22de27a7932        57.73  19.244333           0.320072   \n",
       "389bc3fa690240e798340f5a15918d5c        36.43  12.144333           1.001000   \n",
       "2eeac8d8feae4a8cad5a6af0499a211d        15.62   3.906000           0.796775   \n",
       "\n",
       "                                   age became_member_on gender    income  \\\n",
       "0610b486422d4921ae7d2bf64640c50b  55.0       2017-07-15      F  112000.0   \n",
       "78afa995795e4d85b5d9ceeca43f5fef  75.0       2017-05-09      F  100000.0   \n",
       "e2127556f4f64592b11af22de27a7932  68.0       2018-04-26      M   70000.0   \n",
       "389bc3fa690240e798340f5a15918d5c  65.0       2018-02-09      M   53000.0   \n",
       "2eeac8d8feae4a8cad5a6af0499a211d  58.0       2017-11-11      M   51000.0   \n",
       "\n",
       "                                  member_since_year  member_for_days  \n",
       "0610b486422d4921ae7d2bf64640c50b               2017            438.0  \n",
       "78afa995795e4d85b5d9ceeca43f5fef               2017            505.0  \n",
       "e2127556f4f64592b11af22de27a7932               2018            153.0  \n",
       "389bc3fa690240e798340f5a15918d5c               2018            229.0  \n",
       "2eeac8d8feae4a8cad5a6af0499a211d               2017            319.0  "
      ]
     },
     "execution_count": 201,
     "metadata": {},
     "output_type": "execute_result"
    }
   ],
   "source": [
    "profile_trans.head()"
   ]
  },
  {
   "cell_type": "code",
   "execution_count": 202,
   "metadata": {},
   "outputs": [],
   "source": [
    "profile_trans = pd.read_csv('profile_trans.csv', index_col= 'Unnamed: 0')\n",
    "profile_trans.index.name = None"
   ]
  },
  {
   "cell_type": "code",
   "execution_count": 203,
   "metadata": {},
   "outputs": [],
   "source": [
    "offer_ids = portfolio.offer_id.tolist()\n",
    "offer_names = portfolio.offer_name.tolist()\n",
    "offer_dict = {}\n",
    "for i,v in enumerate(offer_ids):\n",
    "    offer_dict[v] = offer_names[i]"
   ]
  },
  {
   "cell_type": "code",
   "execution_count": 204,
   "metadata": {},
   "outputs": [
    {
     "data": {
      "text/html": [
       "<div>\n",
       "<style scoped>\n",
       "    .dataframe tbody tr th:only-of-type {\n",
       "        vertical-align: middle;\n",
       "    }\n",
       "\n",
       "    .dataframe tbody tr th {\n",
       "        vertical-align: top;\n",
       "    }\n",
       "\n",
       "    .dataframe thead th {\n",
       "        text-align: right;\n",
       "    }\n",
       "</style>\n",
       "<table border=\"1\" class=\"dataframe\">\n",
       "  <thead>\n",
       "    <tr style=\"text-align: right;\">\n",
       "      <th></th>\n",
       "      <th>bogo_10_10_7</th>\n",
       "      <th>bogo_10_10_5</th>\n",
       "      <th>informational_0_0_4</th>\n",
       "      <th>bogo_5_5_7</th>\n",
       "      <th>discount_20_5_10</th>\n",
       "      <th>discount_7_3_7</th>\n",
       "      <th>discount_10_2_10</th>\n",
       "      <th>informational_0_0_3</th>\n",
       "      <th>bogo_5_5_5</th>\n",
       "      <th>discount_10_2_7</th>\n",
       "      <th>trans_total</th>\n",
       "      <th>avg_trans</th>\n",
       "      <th>trans_offer_ratio</th>\n",
       "      <th>age</th>\n",
       "      <th>became_member_on</th>\n",
       "      <th>gender</th>\n",
       "      <th>income</th>\n",
       "      <th>member_since_year</th>\n",
       "      <th>member_for_days</th>\n",
       "    </tr>\n",
       "  </thead>\n",
       "  <tbody>\n",
       "    <tr>\n",
       "      <th>6d5f3a774f3d4714ab0c092238f3a1d7</th>\n",
       "      <td>NaN</td>\n",
       "      <td>0.0</td>\n",
       "      <td>NaN</td>\n",
       "      <td>NaN</td>\n",
       "      <td>NaN</td>\n",
       "      <td>0.0</td>\n",
       "      <td>NaN</td>\n",
       "      <td>0.0</td>\n",
       "      <td>NaN</td>\n",
       "      <td>NaN</td>\n",
       "      <td>20.03</td>\n",
       "      <td>2.862429</td>\n",
       "      <td>0.001000</td>\n",
       "      <td>45.0</td>\n",
       "      <td>2018-06-04</td>\n",
       "      <td>F</td>\n",
       "      <td>54000.0</td>\n",
       "      <td>2018</td>\n",
       "      <td>114.0</td>\n",
       "    </tr>\n",
       "    <tr>\n",
       "      <th>2cb4f97358b841b9a9773a7aa05a9d77</th>\n",
       "      <td>NaN</td>\n",
       "      <td>NaN</td>\n",
       "      <td>NaN</td>\n",
       "      <td>NaN</td>\n",
       "      <td>NaN</td>\n",
       "      <td>NaN</td>\n",
       "      <td>NaN</td>\n",
       "      <td>0.0</td>\n",
       "      <td>NaN</td>\n",
       "      <td>NaN</td>\n",
       "      <td>25.97</td>\n",
       "      <td>3.711000</td>\n",
       "      <td>0.001000</td>\n",
       "      <td>61.0</td>\n",
       "      <td>2018-07-13</td>\n",
       "      <td>M</td>\n",
       "      <td>72000.0</td>\n",
       "      <td>2018</td>\n",
       "      <td>75.0</td>\n",
       "    </tr>\n",
       "    <tr>\n",
       "      <th>01d26f638c274aa0b965d24cefe3183f</th>\n",
       "      <td>NaN</td>\n",
       "      <td>NaN</td>\n",
       "      <td>NaN</td>\n",
       "      <td>NaN</td>\n",
       "      <td>NaN</td>\n",
       "      <td>NaN</td>\n",
       "      <td>NaN</td>\n",
       "      <td>1.0</td>\n",
       "      <td>NaN</td>\n",
       "      <td>NaN</td>\n",
       "      <td>39.74</td>\n",
       "      <td>4.968500</td>\n",
       "      <td>0.001000</td>\n",
       "      <td>49.0</td>\n",
       "      <td>2017-01-26</td>\n",
       "      <td>M</td>\n",
       "      <td>73000.0</td>\n",
       "      <td>2017</td>\n",
       "      <td>608.0</td>\n",
       "    </tr>\n",
       "    <tr>\n",
       "      <th>9dc1421481194dcd9400aec7c9ae6366</th>\n",
       "      <td>NaN</td>\n",
       "      <td>1.0</td>\n",
       "      <td>NaN</td>\n",
       "      <td>NaN</td>\n",
       "      <td>NaN</td>\n",
       "      <td>NaN</td>\n",
       "      <td>NaN</td>\n",
       "      <td>NaN</td>\n",
       "      <td>NaN</td>\n",
       "      <td>NaN</td>\n",
       "      <td>189.67</td>\n",
       "      <td>13.548857</td>\n",
       "      <td>0.107712</td>\n",
       "      <td>83.0</td>\n",
       "      <td>2016-03-07</td>\n",
       "      <td>F</td>\n",
       "      <td>50000.0</td>\n",
       "      <td>2016</td>\n",
       "      <td>933.0</td>\n",
       "    </tr>\n",
       "    <tr>\n",
       "      <th>e4052622e5ba45a8b96b59aba68cf068</th>\n",
       "      <td>NaN</td>\n",
       "      <td>NaN</td>\n",
       "      <td>NaN</td>\n",
       "      <td>NaN</td>\n",
       "      <td>NaN</td>\n",
       "      <td>1.0</td>\n",
       "      <td>NaN</td>\n",
       "      <td>NaN</td>\n",
       "      <td>NaN</td>\n",
       "      <td>NaN</td>\n",
       "      <td>143.02</td>\n",
       "      <td>23.837667</td>\n",
       "      <td>0.151678</td>\n",
       "      <td>62.0</td>\n",
       "      <td>2017-07-22</td>\n",
       "      <td>F</td>\n",
       "      <td>82000.0</td>\n",
       "      <td>2017</td>\n",
       "      <td>431.0</td>\n",
       "    </tr>\n",
       "  </tbody>\n",
       "</table>\n",
       "</div>"
      ],
      "text/plain": [
       "                                  bogo_10_10_7  bogo_10_10_5  \\\n",
       "6d5f3a774f3d4714ab0c092238f3a1d7           NaN           0.0   \n",
       "2cb4f97358b841b9a9773a7aa05a9d77           NaN           NaN   \n",
       "01d26f638c274aa0b965d24cefe3183f           NaN           NaN   \n",
       "9dc1421481194dcd9400aec7c9ae6366           NaN           1.0   \n",
       "e4052622e5ba45a8b96b59aba68cf068           NaN           NaN   \n",
       "\n",
       "                                  informational_0_0_4  bogo_5_5_7  \\\n",
       "6d5f3a774f3d4714ab0c092238f3a1d7                  NaN         NaN   \n",
       "2cb4f97358b841b9a9773a7aa05a9d77                  NaN         NaN   \n",
       "01d26f638c274aa0b965d24cefe3183f                  NaN         NaN   \n",
       "9dc1421481194dcd9400aec7c9ae6366                  NaN         NaN   \n",
       "e4052622e5ba45a8b96b59aba68cf068                  NaN         NaN   \n",
       "\n",
       "                                  discount_20_5_10  discount_7_3_7  \\\n",
       "6d5f3a774f3d4714ab0c092238f3a1d7               NaN             0.0   \n",
       "2cb4f97358b841b9a9773a7aa05a9d77               NaN             NaN   \n",
       "01d26f638c274aa0b965d24cefe3183f               NaN             NaN   \n",
       "9dc1421481194dcd9400aec7c9ae6366               NaN             NaN   \n",
       "e4052622e5ba45a8b96b59aba68cf068               NaN             1.0   \n",
       "\n",
       "                                  discount_10_2_10  informational_0_0_3  \\\n",
       "6d5f3a774f3d4714ab0c092238f3a1d7               NaN                  0.0   \n",
       "2cb4f97358b841b9a9773a7aa05a9d77               NaN                  0.0   \n",
       "01d26f638c274aa0b965d24cefe3183f               NaN                  1.0   \n",
       "9dc1421481194dcd9400aec7c9ae6366               NaN                  NaN   \n",
       "e4052622e5ba45a8b96b59aba68cf068               NaN                  NaN   \n",
       "\n",
       "                                  bogo_5_5_5  discount_10_2_7  trans_total  \\\n",
       "6d5f3a774f3d4714ab0c092238f3a1d7         NaN              NaN        20.03   \n",
       "2cb4f97358b841b9a9773a7aa05a9d77         NaN              NaN        25.97   \n",
       "01d26f638c274aa0b965d24cefe3183f         NaN              NaN        39.74   \n",
       "9dc1421481194dcd9400aec7c9ae6366         NaN              NaN       189.67   \n",
       "e4052622e5ba45a8b96b59aba68cf068         NaN              NaN       143.02   \n",
       "\n",
       "                                  avg_trans  trans_offer_ratio   age  \\\n",
       "6d5f3a774f3d4714ab0c092238f3a1d7   2.862429           0.001000  45.0   \n",
       "2cb4f97358b841b9a9773a7aa05a9d77   3.711000           0.001000  61.0   \n",
       "01d26f638c274aa0b965d24cefe3183f   4.968500           0.001000  49.0   \n",
       "9dc1421481194dcd9400aec7c9ae6366  13.548857           0.107712  83.0   \n",
       "e4052622e5ba45a8b96b59aba68cf068  23.837667           0.151678  62.0   \n",
       "\n",
       "                                 became_member_on gender   income  \\\n",
       "6d5f3a774f3d4714ab0c092238f3a1d7       2018-06-04      F  54000.0   \n",
       "2cb4f97358b841b9a9773a7aa05a9d77       2018-07-13      M  72000.0   \n",
       "01d26f638c274aa0b965d24cefe3183f       2017-01-26      M  73000.0   \n",
       "9dc1421481194dcd9400aec7c9ae6366       2016-03-07      F  50000.0   \n",
       "e4052622e5ba45a8b96b59aba68cf068       2017-07-22      F  82000.0   \n",
       "\n",
       "                                  member_since_year  member_for_days  \n",
       "6d5f3a774f3d4714ab0c092238f3a1d7               2018            114.0  \n",
       "2cb4f97358b841b9a9773a7aa05a9d77               2018             75.0  \n",
       "01d26f638c274aa0b965d24cefe3183f               2017            608.0  \n",
       "9dc1421481194dcd9400aec7c9ae6366               2016            933.0  \n",
       "e4052622e5ba45a8b96b59aba68cf068               2017            431.0  "
      ]
     },
     "execution_count": 204,
     "metadata": {},
     "output_type": "execute_result"
    }
   ],
   "source": [
    "profile_trans.rename(offer_dict, axis = 1, inplace=True)\n",
    "profile_trans.tail()"
   ]
  },
  {
   "cell_type": "markdown",
   "metadata": {},
   "source": [
    "## Preliminary Exploration: Transactions & Profiles"
   ]
  },
  {
   "cell_type": "code",
   "execution_count": 206,
   "metadata": {},
   "outputs": [
    {
     "data": {
      "text/html": [
       "<div>\n",
       "<style scoped>\n",
       "    .dataframe tbody tr th:only-of-type {\n",
       "        vertical-align: middle;\n",
       "    }\n",
       "\n",
       "    .dataframe tbody tr th {\n",
       "        vertical-align: top;\n",
       "    }\n",
       "\n",
       "    .dataframe thead th {\n",
       "        text-align: right;\n",
       "    }\n",
       "</style>\n",
       "<table border=\"1\" class=\"dataframe\">\n",
       "  <thead>\n",
       "    <tr style=\"text-align: right;\">\n",
       "      <th></th>\n",
       "      <th>age</th>\n",
       "      <th>income</th>\n",
       "      <th>member_for_days</th>\n",
       "      <th>trans_total</th>\n",
       "      <th>avg_trans</th>\n",
       "      <th>trans_offer_ratio</th>\n",
       "    </tr>\n",
       "  </thead>\n",
       "  <tbody>\n",
       "    <tr>\n",
       "      <th>count</th>\n",
       "      <td>14825.000000</td>\n",
       "      <td>14825.000000</td>\n",
       "      <td>14825.000000</td>\n",
       "      <td>14825.000000</td>\n",
       "      <td>14492.000000</td>\n",
       "      <td>14492.000000</td>\n",
       "    </tr>\n",
       "    <tr>\n",
       "      <th>mean</th>\n",
       "      <td>54.393524</td>\n",
       "      <td>65404.991568</td>\n",
       "      <td>584.478988</td>\n",
       "      <td>117.028155</td>\n",
       "      <td>15.253287</td>\n",
       "      <td>0.266192</td>\n",
       "    </tr>\n",
       "    <tr>\n",
       "      <th>std</th>\n",
       "      <td>17.383705</td>\n",
       "      <td>21598.299410</td>\n",
       "      <td>419.205158</td>\n",
       "      <td>129.965016</td>\n",
       "      <td>16.543371</td>\n",
       "      <td>0.237455</td>\n",
       "    </tr>\n",
       "    <tr>\n",
       "      <th>min</th>\n",
       "      <td>18.000000</td>\n",
       "      <td>30000.000000</td>\n",
       "      <td>62.000000</td>\n",
       "      <td>0.000000</td>\n",
       "      <td>0.151000</td>\n",
       "      <td>0.001000</td>\n",
       "    </tr>\n",
       "    <tr>\n",
       "      <th>25%</th>\n",
       "      <td>42.000000</td>\n",
       "      <td>49000.000000</td>\n",
       "      <td>270.000000</td>\n",
       "      <td>31.450000</td>\n",
       "      <td>3.891833</td>\n",
       "      <td>0.027994</td>\n",
       "    </tr>\n",
       "    <tr>\n",
       "      <th>50%</th>\n",
       "      <td>55.000000</td>\n",
       "      <td>64000.000000</td>\n",
       "      <td>420.000000</td>\n",
       "      <td>87.040000</td>\n",
       "      <td>14.312214</td>\n",
       "      <td>0.237432</td>\n",
       "    </tr>\n",
       "    <tr>\n",
       "      <th>75%</th>\n",
       "      <td>66.000000</td>\n",
       "      <td>80000.000000</td>\n",
       "      <td>859.000000</td>\n",
       "      <td>160.900000</td>\n",
       "      <td>21.468625</td>\n",
       "      <td>0.401444</td>\n",
       "    </tr>\n",
       "    <tr>\n",
       "      <th>max</th>\n",
       "      <td>101.000000</td>\n",
       "      <td>120000.000000</td>\n",
       "      <td>1885.000000</td>\n",
       "      <td>1608.690000</td>\n",
       "      <td>451.471000</td>\n",
       "      <td>1.001000</td>\n",
       "    </tr>\n",
       "  </tbody>\n",
       "</table>\n",
       "</div>"
      ],
      "text/plain": [
       "                age         income  member_for_days   trans_total  \\\n",
       "count  14825.000000   14825.000000     14825.000000  14825.000000   \n",
       "mean      54.393524   65404.991568       584.478988    117.028155   \n",
       "std       17.383705   21598.299410       419.205158    129.965016   \n",
       "min       18.000000   30000.000000        62.000000      0.000000   \n",
       "25%       42.000000   49000.000000       270.000000     31.450000   \n",
       "50%       55.000000   64000.000000       420.000000     87.040000   \n",
       "75%       66.000000   80000.000000       859.000000    160.900000   \n",
       "max      101.000000  120000.000000      1885.000000   1608.690000   \n",
       "\n",
       "          avg_trans  trans_offer_ratio  \n",
       "count  14492.000000       14492.000000  \n",
       "mean      15.253287           0.266192  \n",
       "std       16.543371           0.237455  \n",
       "min        0.151000           0.001000  \n",
       "25%        3.891833           0.027994  \n",
       "50%       14.312214           0.237432  \n",
       "75%       21.468625           0.401444  \n",
       "max      451.471000           1.001000  "
      ]
     },
     "execution_count": 206,
     "metadata": {},
     "output_type": "execute_result"
    }
   ],
   "source": [
    "profile_trans[['age', 'income', 'member_for_days', 'trans_total', 'avg_trans', 'trans_offer_ratio']].describe()"
   ]
  },
  {
   "cell_type": "code",
   "execution_count": 207,
   "metadata": {},
   "outputs": [
    {
     "data": {
      "image/png": "[encoded data removed]",
      "text/plain": [
       "<Figure size 432x288 with 2 Axes>"
      ]
     },
     "metadata": {},
     "output_type": "display_data"
    }
   ],
   "source": [
    "sns.heatmap(profile_trans[['age', 'income', 'member_for_days', 'trans_total', 'avg_trans', 'trans_offer_ratio']].corr());"
   ]
  },
  {
   "cell_type": "markdown",
   "metadata": {},
   "source": [
    "We can see that there is some strong correlations between income and transactions made, which is understandable."
   ]
  },
  {
   "cell_type": "code",
   "execution_count": 209,
   "metadata": {},
   "outputs": [
    {
     "data": {
      "image/png": "[encoded data removed]",
      "text/plain": [
       "<Figure size 648x252 with 2 Axes>"
      ]
     },
     "metadata": {},
     "output_type": "display_data"
    }
   ],
   "source": [
    "fig, axes = plt.subplots(1, 2, figsize=(9,3.5))\n",
    "profile_trans['trans_total'].hist(ax = axes[0]);\n",
    "axes[0].set_title('Total Transaction Distribution')\n",
    "axes[0].set_xlabel('Transaction Amount',)\n",
    "profile_trans['avg_trans'].hist(ax = axes[1]);\n",
    "axes[1].set_title('Average Transaction Distribution')\n",
    "axes[1].set_xlabel('Transaction Amount')\n",
    "plt.tight_layout()\n",
    "plt.show()\n"
   ]
  },
  {
   "cell_type": "markdown",
   "metadata": {},
   "source": [
    "If we look at the total transaction distribution, we can see that most of the entries have transaction records n the 0 - 300 range"
   ]
  },
  {
   "cell_type": "code",
   "execution_count": 210,
   "metadata": {},
   "outputs": [
    {
     "data": {
      "image/png": "[encoded data removed]",
      "text/plain": [
       "<Figure size 1080x648 with 9 Axes>"
      ]
     },
     "metadata": {},
     "output_type": "display_data"
    }
   ],
   "source": [
    "fig = plt.figure(figsize=(15,9))\n",
    "\n",
    "plt.subplot(3,3,1)\n",
    "female_avg = profile_trans[profile_trans.gender=='F'].groupby('age').mean()['trans_total']\n",
    "male_avg = profile_trans[profile_trans.gender=='M'].groupby('age').mean()['trans_total']\n",
    "plt.scatter(female_avg.index, female_avg);\n",
    "plt.scatter(male_avg.index, male_avg);\n",
    "plt.xlabel('age');\n",
    "plt.title('Mean Total Transaction Amount By Age')\n",
    "\n",
    "\n",
    "plt.subplot(3,3,2)\n",
    "female_avg = profile_trans[profile_trans.gender=='F'].groupby('age').mean()['avg_trans']\n",
    "male_avg = profile_trans[profile_trans.gender=='M'].groupby('age').mean()['avg_trans']\n",
    "plt.scatter(female_avg.index, female_avg);\n",
    "plt.scatter(male_avg.index, male_avg);\n",
    "plt.xlabel('age');\n",
    "plt.title('Mean Average Transaction Amount By Age')\n",
    "\n",
    "plt.subplot(3,3,3)\n",
    "female_avg = profile_trans[profile_trans.gender=='F'].groupby('age').mean()['trans_offer_ratio']\n",
    "male_avg = profile_trans[profile_trans.gender=='M'].groupby('age').mean()['trans_offer_ratio']\n",
    "plt.scatter(female_avg.index, female_avg);\n",
    "plt.scatter(male_avg.index, male_avg);\n",
    "plt.xlabel('age');\n",
    "plt.title('Mean Proportion Of Transactions Influenced By Offer By Age')\n",
    "plt.legend(['female', 'male'], bbox_to_anchor=(1.00, 0.5), loc=3);\n",
    "\n",
    "plt.subplot(3,3,4)\n",
    "female_avg = profile_trans[profile_trans.gender=='F'].groupby('income').mean()['trans_total']\n",
    "male_avg = profile_trans[profile_trans.gender=='M'].groupby('income').mean()['trans_total']\n",
    "plt.scatter(female_avg.index, female_avg);\n",
    "plt.scatter(male_avg.index, male_avg);\n",
    "plt.xlabel('income');\n",
    "plt.title('Mean Total Transaction Amount By Income')\n",
    "\n",
    "\n",
    "plt.subplot(3,3,5)\n",
    "female_avg = profile_trans[profile_trans.gender=='F'].groupby('income').mean()['avg_trans']\n",
    "male_avg = profile_trans[profile_trans.gender=='M'].groupby('income').mean()['avg_trans']\n",
    "plt.scatter(female_avg.index, female_avg);\n",
    "plt.scatter(male_avg.index, male_avg);\n",
    "plt.xlabel('income');\n",
    "plt.title('Mean Average Transaction Amount By Income')\n",
    "\n",
    "plt.subplot(3,3,6)\n",
    "female_avg = profile_trans[profile_trans.gender=='F'].groupby('income').mean()['trans_offer_ratio']\n",
    "male_avg = profile_trans[profile_trans.gender=='M'].groupby('income').mean()['trans_offer_ratio']\n",
    "plt.scatter(female_avg.index, female_avg);\n",
    "plt.scatter(male_avg.index, male_avg);\n",
    "plt.xlabel('income');\n",
    "plt.title('Mean Proportion Of Transactions Influenced By Offer By Income')\n",
    "plt.legend(['female', 'male'], bbox_to_anchor=(1.00, 0.5), loc=3);\n",
    "\n",
    "plt.subplot(3,3,7)\n",
    "female_avg = profile_trans[profile_trans.gender=='F'].groupby('member_for_days').mean()['trans_total']\n",
    "male_avg = profile_trans[profile_trans.gender=='M'].groupby('member_for_days').mean()['trans_total']\n",
    "plt.scatter(female_avg.index, female_avg);\n",
    "plt.scatter(male_avg.index, male_avg);\n",
    "plt.xlabel('membership duration');\n",
    "plt.title('Mean Total Transaction Amount\\nBy Membership Duration')\n",
    "\n",
    "\n",
    "plt.subplot(3,3,8)\n",
    "female_avg = profile_trans[profile_trans.gender=='F'].groupby('member_for_days').mean()['avg_trans']\n",
    "male_avg = profile_trans[profile_trans.gender=='M'].groupby('member_for_days').mean()['avg_trans']\n",
    "plt.scatter(female_avg.index, female_avg);\n",
    "plt.scatter(male_avg.index, male_avg);\n",
    "plt.xlabel('membership duration');\n",
    "plt.title('Mean Average Transaction Amount\\nBy Membership Duration')\n",
    "\n",
    "plt.subplot(3,3,9)\n",
    "female_avg = profile_trans[profile_trans.gender=='F'].groupby('member_for_days').mean()['trans_offer_ratio']\n",
    "male_avg = profile_trans[profile_trans.gender=='M'].groupby('member_for_days').mean()['trans_offer_ratio']\n",
    "plt.scatter(female_avg.index, female_avg);\n",
    "plt.scatter(male_avg.index, male_avg);\n",
    "plt.xlabel('membership duration');\n",
    "plt.title('Mean Proportion Of Transactions Influenced By Offer\\nBy Membership Duration')\n",
    "plt.legend(['female', 'male'], bbox_to_anchor=(1.00, 0.5), loc=3);\n",
    "\n",
    "\n",
    "\n",
    "plt.tight_layout()\n",
    "plt.show()"
   ]
  },
  {
   "cell_type": "markdown",
   "metadata": {},
   "source": [
    "Key takeaways:\n",
    "* Transaction amount increases with age. Females have a higher transactions than males for most ages.\n",
    "* Proportion of transaction influenced by offer is very similar for both genders and does not vary much with age.\n",
    "* Transaction amount increases with income. Females have a higher transactions than males for most incomes.\n",
    "* Proportion of transaction influenced by offer increases with increase in income.\n",
    "* There seems to be no relationship between membership duration and total transaction amount.\n",
    "* There seems to be not relationship between membership duration and the proportion of transaction influenced by offer."
   ]
  },
  {
   "cell_type": "markdown",
   "metadata": {},
   "source": [
    "## Machine Learning"
   ]
  },
  {
   "cell_type": "markdown",
   "metadata": {},
   "source": [
    "### Models Selection & Metrics\n",
    "**Andvantages of Random Forest**\n",
    "\n",
    "* Random forests is considered as a highly accurate and robust method because of the number of decision trees participating in the process.\n",
    "* It does not suffer from the overfitting problem. The main reason is that it takes the average of all the predictions, which cancels out the biases.\n",
    "* It can be used for both classifaction and regression problems.\n",
    "* Most important features can be determined.\n",
    "* Not too many hyperparameters to tune.\n",
    "\n",
    "**Evaluation Metrics (Classification)**\n",
    "The classification models were scored using the f1 score. F1 score is the  harmonic mean of the precision and recall. Harmonic mean is always closer to the smaller number. So, if one of precision or recall is particularly small, the F1 will raise a flag.\n",
    "Recall is of particular interest in this case, as we want to correctly identify a user who would respond to an offer. \n",
    "\n",
    "The lowest acceptable f1 score for this project will be 0.70."
   ]
  },
  {
   "cell_type": "markdown",
   "metadata": {},
   "source": [
    "### Predicting The Best Offer For A User"
   ]
  },
  {
   "cell_type": "code",
   "execution_count": 60,
   "metadata": {},
   "outputs": [
    {
     "data": {
      "text/html": [
       "<div>\n",
       "<style scoped>\n",
       "    .dataframe tbody tr th:only-of-type {\n",
       "        vertical-align: middle;\n",
       "    }\n",
       "\n",
       "    .dataframe tbody tr th {\n",
       "        vertical-align: top;\n",
       "    }\n",
       "\n",
       "    .dataframe thead th {\n",
       "        text-align: right;\n",
       "    }\n",
       "</style>\n",
       "<table border=\"1\" class=\"dataframe\">\n",
       "  <thead>\n",
       "    <tr style=\"text-align: right;\">\n",
       "      <th></th>\n",
       "      <th>bogo_10_10_7</th>\n",
       "      <th>bogo_10_10_5</th>\n",
       "      <th>informational_0_0_4</th>\n",
       "      <th>bogo_5_5_7</th>\n",
       "      <th>discount_20_5_10</th>\n",
       "      <th>discount_7_3_7</th>\n",
       "      <th>discount_10_2_10</th>\n",
       "      <th>informational_0_0_3</th>\n",
       "      <th>bogo_5_5_5</th>\n",
       "      <th>discount_10_2_7</th>\n",
       "      <th>trans_total</th>\n",
       "      <th>avg_trans</th>\n",
       "      <th>trans_offer_ratio</th>\n",
       "      <th>age</th>\n",
       "      <th>became_member_on</th>\n",
       "      <th>gender</th>\n",
       "      <th>income</th>\n",
       "      <th>member_since_year</th>\n",
       "      <th>member_for_days</th>\n",
       "    </tr>\n",
       "  </thead>\n",
       "  <tbody>\n",
       "    <tr>\n",
       "      <th>0610b486422d4921ae7d2bf64640c50b</th>\n",
       "      <td>NaN</td>\n",
       "      <td>NaN</td>\n",
       "      <td>NaN</td>\n",
       "      <td>NaN</td>\n",
       "      <td>NaN</td>\n",
       "      <td>NaN</td>\n",
       "      <td>NaN</td>\n",
       "      <td>NaN</td>\n",
       "      <td>NaN</td>\n",
       "      <td>NaN</td>\n",
       "      <td>77.01</td>\n",
       "      <td>25.671000</td>\n",
       "      <td>0.001000</td>\n",
       "      <td>55.0</td>\n",
       "      <td>2017-07-15</td>\n",
       "      <td>F</td>\n",
       "      <td>112000.0</td>\n",
       "      <td>2017</td>\n",
       "      <td>438.0</td>\n",
       "    </tr>\n",
       "    <tr>\n",
       "      <th>78afa995795e4d85b5d9ceeca43f5fef</th>\n",
       "      <td>1.0</td>\n",
       "      <td>NaN</td>\n",
       "      <td>NaN</td>\n",
       "      <td>1.0</td>\n",
       "      <td>NaN</td>\n",
       "      <td>NaN</td>\n",
       "      <td>NaN</td>\n",
       "      <td>1.0</td>\n",
       "      <td>NaN</td>\n",
       "      <td>NaN</td>\n",
       "      <td>159.27</td>\n",
       "      <td>22.753857</td>\n",
       "      <td>0.262254</td>\n",
       "      <td>75.0</td>\n",
       "      <td>2017-05-09</td>\n",
       "      <td>F</td>\n",
       "      <td>100000.0</td>\n",
       "      <td>2017</td>\n",
       "      <td>505.0</td>\n",
       "    </tr>\n",
       "    <tr>\n",
       "      <th>e2127556f4f64592b11af22de27a7932</th>\n",
       "      <td>NaN</td>\n",
       "      <td>NaN</td>\n",
       "      <td>NaN</td>\n",
       "      <td>1.0</td>\n",
       "      <td>NaN</td>\n",
       "      <td>NaN</td>\n",
       "      <td>1.0</td>\n",
       "      <td>NaN</td>\n",
       "      <td>NaN</td>\n",
       "      <td>0.0</td>\n",
       "      <td>57.73</td>\n",
       "      <td>19.244333</td>\n",
       "      <td>0.320072</td>\n",
       "      <td>68.0</td>\n",
       "      <td>2018-04-26</td>\n",
       "      <td>M</td>\n",
       "      <td>70000.0</td>\n",
       "      <td>2018</td>\n",
       "      <td>153.0</td>\n",
       "    </tr>\n",
       "    <tr>\n",
       "      <th>389bc3fa690240e798340f5a15918d5c</th>\n",
       "      <td>NaN</td>\n",
       "      <td>NaN</td>\n",
       "      <td>NaN</td>\n",
       "      <td>0.5</td>\n",
       "      <td>NaN</td>\n",
       "      <td>NaN</td>\n",
       "      <td>1.0</td>\n",
       "      <td>NaN</td>\n",
       "      <td>1.0</td>\n",
       "      <td>1.0</td>\n",
       "      <td>36.43</td>\n",
       "      <td>12.144333</td>\n",
       "      <td>1.001000</td>\n",
       "      <td>65.0</td>\n",
       "      <td>2018-02-09</td>\n",
       "      <td>M</td>\n",
       "      <td>53000.0</td>\n",
       "      <td>2018</td>\n",
       "      <td>229.0</td>\n",
       "    </tr>\n",
       "    <tr>\n",
       "      <th>2eeac8d8feae4a8cad5a6af0499a211d</th>\n",
       "      <td>NaN</td>\n",
       "      <td>NaN</td>\n",
       "      <td>NaN</td>\n",
       "      <td>NaN</td>\n",
       "      <td>NaN</td>\n",
       "      <td>0.0</td>\n",
       "      <td>1.0</td>\n",
       "      <td>NaN</td>\n",
       "      <td>NaN</td>\n",
       "      <td>NaN</td>\n",
       "      <td>15.62</td>\n",
       "      <td>3.906000</td>\n",
       "      <td>0.796775</td>\n",
       "      <td>58.0</td>\n",
       "      <td>2017-11-11</td>\n",
       "      <td>M</td>\n",
       "      <td>51000.0</td>\n",
       "      <td>2017</td>\n",
       "      <td>319.0</td>\n",
       "    </tr>\n",
       "  </tbody>\n",
       "</table>\n",
       "</div>"
      ],
      "text/plain": [
       "                                  bogo_10_10_7  bogo_10_10_5  \\\n",
       "0610b486422d4921ae7d2bf64640c50b           NaN           NaN   \n",
       "78afa995795e4d85b5d9ceeca43f5fef           1.0           NaN   \n",
       "e2127556f4f64592b11af22de27a7932           NaN           NaN   \n",
       "389bc3fa690240e798340f5a15918d5c           NaN           NaN   \n",
       "2eeac8d8feae4a8cad5a6af0499a211d           NaN           NaN   \n",
       "\n",
       "                                  informational_0_0_4  bogo_5_5_7  \\\n",
       "0610b486422d4921ae7d2bf64640c50b                  NaN         NaN   \n",
       "78afa995795e4d85b5d9ceeca43f5fef                  NaN         1.0   \n",
       "e2127556f4f64592b11af22de27a7932                  NaN         1.0   \n",
       "389bc3fa690240e798340f5a15918d5c                  NaN         0.5   \n",
       "2eeac8d8feae4a8cad5a6af0499a211d                  NaN         NaN   \n",
       "\n",
       "                                  discount_20_5_10  discount_7_3_7  \\\n",
       "0610b486422d4921ae7d2bf64640c50b               NaN             NaN   \n",
       "78afa995795e4d85b5d9ceeca43f5fef               NaN             NaN   \n",
       "e2127556f4f64592b11af22de27a7932               NaN             NaN   \n",
       "389bc3fa690240e798340f5a15918d5c               NaN             NaN   \n",
       "2eeac8d8feae4a8cad5a6af0499a211d               NaN             0.0   \n",
       "\n",
       "                                  discount_10_2_10  informational_0_0_3  \\\n",
       "0610b486422d4921ae7d2bf64640c50b               NaN                  NaN   \n",
       "78afa995795e4d85b5d9ceeca43f5fef               NaN                  1.0   \n",
       "e2127556f4f64592b11af22de27a7932               1.0                  NaN   \n",
       "389bc3fa690240e798340f5a15918d5c               1.0                  NaN   \n",
       "2eeac8d8feae4a8cad5a6af0499a211d               1.0                  NaN   \n",
       "\n",
       "                                  bogo_5_5_5  discount_10_2_7  trans_total  \\\n",
       "0610b486422d4921ae7d2bf64640c50b         NaN              NaN        77.01   \n",
       "78afa995795e4d85b5d9ceeca43f5fef         NaN              NaN       159.27   \n",
       "e2127556f4f64592b11af22de27a7932         NaN              0.0        57.73   \n",
       "389bc3fa690240e798340f5a15918d5c         1.0              1.0        36.43   \n",
       "2eeac8d8feae4a8cad5a6af0499a211d         NaN              NaN        15.62   \n",
       "\n",
       "                                  avg_trans  trans_offer_ratio   age  \\\n",
       "0610b486422d4921ae7d2bf64640c50b  25.671000           0.001000  55.0   \n",
       "78afa995795e4d85b5d9ceeca43f5fef  22.753857           0.262254  75.0   \n",
       "e2127556f4f64592b11af22de27a7932  19.244333           0.320072  68.0   \n",
       "389bc3fa690240e798340f5a15918d5c  12.144333           1.001000  65.0   \n",
       "2eeac8d8feae4a8cad5a6af0499a211d   3.906000           0.796775  58.0   \n",
       "\n",
       "                                 became_member_on gender    income  \\\n",
       "0610b486422d4921ae7d2bf64640c50b       2017-07-15      F  112000.0   \n",
       "78afa995795e4d85b5d9ceeca43f5fef       2017-05-09      F  100000.0   \n",
       "e2127556f4f64592b11af22de27a7932       2018-04-26      M   70000.0   \n",
       "389bc3fa690240e798340f5a15918d5c       2018-02-09      M   53000.0   \n",
       "2eeac8d8feae4a8cad5a6af0499a211d       2017-11-11      M   51000.0   \n",
       "\n",
       "                                  member_since_year  member_for_days  \n",
       "0610b486422d4921ae7d2bf64640c50b               2017            438.0  \n",
       "78afa995795e4d85b5d9ceeca43f5fef               2017            505.0  \n",
       "e2127556f4f64592b11af22de27a7932               2018            153.0  \n",
       "389bc3fa690240e798340f5a15918d5c               2018            229.0  \n",
       "2eeac8d8feae4a8cad5a6af0499a211d               2017            319.0  "
      ]
     },
     "execution_count": 60,
     "metadata": {},
     "output_type": "execute_result"
    }
   ],
   "source": [
    "profile_trans.head()"
   ]
  },
  {
   "cell_type": "code",
   "execution_count": 61,
   "metadata": {},
   "outputs": [],
   "source": [
    "one_hot = pd.get_dummies(profile_trans['gender'])\n",
    "profile_trans = profile_trans.drop('gender',axis = 1)\n",
    "profile_trans = profile_trans.join(one_hot)"
   ]
  },
  {
   "cell_type": "markdown",
   "metadata": {},
   "source": [
    "In order to predict the best offer for a user, we will be training a classifier for each offer type that will be giving us a probability of the user completing the offer.\n",
    "\n",
    "The classifier we will be using here is the Random Forest Classifier."
   ]
  },
  {
   "cell_type": "code",
   "execution_count": 62,
   "metadata": {},
   "outputs": [],
   "source": [
    "def train_test_data(col, df):\n",
    "    \n",
    "    '''Filters data for user with 1 or 0 for a particular offer and then splits it into training and testing sets.\n",
    "    \n",
    "    INPUT:\n",
    "        col (str): offer id\n",
    "        df (dataframe):profile_trans dataframe\n",
    "    OUTPUT:\n",
    "        xtrain : training dataset (features)\n",
    "        xtest : testing dataset (features)\n",
    "        ytrain : training dataset (labels)\n",
    "        ytest : testing dataset (labels)\n",
    "    '''\n",
    "    \n",
    "    data = df[(df.loc[:, col] == 1) | \n",
    "              (df.loc[:, col] == 0)].loc[:, ['age','income','F','M','O', 'member_for_days', col]]\n",
    "    \n",
    "    x = data.iloc[:, 0:6]\n",
    "    y = data.iloc[:,-1]\n",
    "    xtrain, xtest, ytrain, ytest = train_test_split(x, y, test_size=0.10, random_state=36)\n",
    "    \n",
    "    return xtrain, xtest, ytrain, ytest"
   ]
  },
  {
   "cell_type": "code",
   "execution_count": 63,
   "metadata": {},
   "outputs": [],
   "source": [
    "def train_grd_srch_cv(xtrain, xtest, ytrain, ytest):\n",
    "    \n",
    "    '''Performs and gridsearch and cross validation for a random forest classifier, fits it with the training data,\n",
    "    makes predictions using the best estimator and then calculates the f1 score\n",
    "    \n",
    "    INPUT:\n",
    "        xtrain : training dataset (features)\n",
    "        xtest : testing dataset (features)\n",
    "        ytrain : training dataset (labels)\n",
    "        ytest : testing dataset (labels)\n",
    "    OUTPUT:\n",
    "        grd_clf(sklearn model instance) : trained model\n",
    "        f1 (int) : f1 score of the model\n",
    "    '''\n",
    "    \n",
    "    rf_clf = RandomForestClassifier()\n",
    "    param_grid = {'bootstrap': [True],\n",
    "                  'max_depth': [80, 90, 100, 110],\n",
    "                  'max_features': [2, 3],\n",
    "                  'min_samples_leaf': [3, 4, 5],\n",
    "                  'min_samples_split': [8, 10, 12],\n",
    "                  'n_estimators': [100, 200, 300, 1000]}\n",
    "\n",
    "    grd_clf = GridSearchCV(estimator = rf_clf, param_grid = param_grid, \n",
    "                          cv = 3, n_jobs = -1, verbose = 2)\n",
    "    grd_clf.fit(xtrain, ytrain)\n",
    "    pred = grd_clf.predict(xtest)\n",
    "    f1 = f1_score(ytest, pred)\n",
    "    \n",
    "    return grd_clf, f1\n"
   ]
  },
  {
   "cell_type": "code",
   "execution_count": 275,
   "metadata": {},
   "outputs": [
    {
     "name": "stderr",
     "output_type": "stream",
     "text": [
      "[=======                                                                  ] 10%\r"
     ]
    },
    {
     "name": "stdout",
     "output_type": "stream",
     "text": [
      "Training model for offer 1..\n",
      "Fitting 3 folds for each of 288 candidates, totalling 864 fits\n"
     ]
    },
    {
     "name": "stderr",
     "output_type": "stream",
     "text": [
      "[Parallel(n_jobs=-1)]: Done  25 tasks      | elapsed:   32.1s\n",
      "[Parallel(n_jobs=-1)]: Done 146 tasks      | elapsed:  1.2min\n",
      "[Parallel(n_jobs=-1)]: Done 349 tasks      | elapsed:  2.7min\n",
      "[Parallel(n_jobs=-1)]: Done 632 tasks      | elapsed:  4.7min\n",
      "[Parallel(n_jobs=-1)]: Done 864 out of 864 | elapsed:  6.6min finished\n",
      "[==============                                                           ] 20%\r"
     ]
    },
    {
     "name": "stdout",
     "output_type": "stream",
     "text": [
      "Finished training model for offer 1. F1 score: 0.7327586206896551\n",
      "\n",
      "Training model for offer 2..\n",
      "Fitting 3 folds for each of 288 candidates, totalling 864 fits\n"
     ]
    },
    {
     "name": "stderr",
     "output_type": "stream",
     "text": [
      "[Parallel(n_jobs=-1)]: Done  25 tasks      | elapsed:   39.6s\n",
      "[Parallel(n_jobs=-1)]: Done 146 tasks      | elapsed:  1.7min\n",
      "[Parallel(n_jobs=-1)]: Done 349 tasks      | elapsed:  3.5min\n",
      "[Parallel(n_jobs=-1)]: Done 632 tasks      | elapsed:  6.3min\n",
      "[Parallel(n_jobs=-1)]: Done 864 out of 864 | elapsed:  9.2min finished\n",
      "[=====================                                                    ] 30%\r"
     ]
    },
    {
     "name": "stdout",
     "output_type": "stream",
     "text": [
      "Finished training model for offer 2. F1 score: 0.7212389380530974\n",
      "\n",
      "Training model for offer 3..\n",
      "Fitting 3 folds for each of 288 candidates, totalling 864 fits\n"
     ]
    },
    {
     "name": "stderr",
     "output_type": "stream",
     "text": [
      "[Parallel(n_jobs=-1)]: Done  25 tasks      | elapsed:   52.2s\n",
      "[Parallel(n_jobs=-1)]: Done 146 tasks      | elapsed:  1.9min\n",
      "[Parallel(n_jobs=-1)]: Done 349 tasks      | elapsed:  3.5min\n",
      "[Parallel(n_jobs=-1)]: Done 632 tasks      | elapsed:  6.0min\n",
      "[Parallel(n_jobs=-1)]: Done 864 out of 864 | elapsed:  8.0min finished\n",
      "[=============================                                            ] 40%\r"
     ]
    },
    {
     "name": "stdout",
     "output_type": "stream",
     "text": [
      "Finished training model for offer 3. F1 score: 0.7578347578347578\n",
      "\n",
      "Training model for offer 4..\n",
      "Fitting 3 folds for each of 288 candidates, totalling 864 fits\n"
     ]
    },
    {
     "name": "stderr",
     "output_type": "stream",
     "text": [
      "[Parallel(n_jobs=-1)]: Done  25 tasks      | elapsed:   48.2s\n",
      "[Parallel(n_jobs=-1)]: Done 146 tasks      | elapsed:  1.7min\n",
      "[Parallel(n_jobs=-1)]: Done 349 tasks      | elapsed:  3.2min\n",
      "[Parallel(n_jobs=-1)]: Done 632 tasks      | elapsed:  5.6min\n",
      "[Parallel(n_jobs=-1)]: Done 864 out of 864 | elapsed:  7.3min finished\n",
      "[====================================                                     ] 50%\r"
     ]
    },
    {
     "name": "stdout",
     "output_type": "stream",
     "text": [
      "Finished training model for offer 4. F1 score: 0.7844155844155845\n",
      "\n",
      "Training model for offer 5..\n",
      "Fitting 3 folds for each of 288 candidates, totalling 864 fits\n"
     ]
    },
    {
     "name": "stderr",
     "output_type": "stream",
     "text": [
      "[Parallel(n_jobs=-1)]: Done  25 tasks      | elapsed:   37.5s\n",
      "[Parallel(n_jobs=-1)]: Done 146 tasks      | elapsed:  1.2min\n",
      "[Parallel(n_jobs=-1)]: Done 349 tasks      | elapsed:  2.1min\n",
      "[Parallel(n_jobs=-1)]: Done 632 tasks      | elapsed:  3.4min\n",
      "[Parallel(n_jobs=-1)]: Done 864 out of 864 | elapsed:  4.5min finished\n",
      "[===========================================                              ] 60%\r"
     ]
    },
    {
     "name": "stdout",
     "output_type": "stream",
     "text": [
      "Finished training model for offer 5. F1 score: 0.7933884297520661\n",
      "\n",
      "Training model for offer 6..\n",
      "Fitting 3 folds for each of 288 candidates, totalling 864 fits\n"
     ]
    },
    {
     "name": "stderr",
     "output_type": "stream",
     "text": [
      "[Parallel(n_jobs=-1)]: Done  25 tasks      | elapsed:   37.7s\n",
      "[Parallel(n_jobs=-1)]: Done 146 tasks      | elapsed:  1.5min\n",
      "[Parallel(n_jobs=-1)]: Done 349 tasks      | elapsed:  3.2min\n",
      "[Parallel(n_jobs=-1)]: Done 632 tasks      | elapsed:  5.5min\n",
      "[Parallel(n_jobs=-1)]: Done 864 out of 864 | elapsed:  7.5min finished\n",
      "[===================================================                      ] 70%\r"
     ]
    },
    {
     "name": "stdout",
     "output_type": "stream",
     "text": [
      "Finished training model for offer 6. F1 score: 0.8340425531914895\n",
      "\n",
      "Training model for offer 7..\n",
      "Fitting 3 folds for each of 288 candidates, totalling 864 fits\n"
     ]
    },
    {
     "name": "stderr",
     "output_type": "stream",
     "text": [
      "[Parallel(n_jobs=-1)]: Done  25 tasks      | elapsed:   39.3s\n",
      "[Parallel(n_jobs=-1)]: Done 146 tasks      | elapsed:  1.6min\n",
      "[Parallel(n_jobs=-1)]: Done 349 tasks      | elapsed:  3.4min\n",
      "[Parallel(n_jobs=-1)]: Done 632 tasks      | elapsed:  5.9min\n",
      "[Parallel(n_jobs=-1)]: Done 864 out of 864 | elapsed:  8.1min finished\n",
      "[==========================================================               ] 80%\r"
     ]
    },
    {
     "name": "stdout",
     "output_type": "stream",
     "text": [
      "Finished training model for offer 7. F1 score: 0.8511198945981554\n",
      "\n",
      "Training model for offer 8..\n",
      "Fitting 3 folds for each of 288 candidates, totalling 864 fits\n"
     ]
    },
    {
     "name": "stderr",
     "output_type": "stream",
     "text": [
      "[Parallel(n_jobs=-1)]: Done  25 tasks      | elapsed:   41.9s\n",
      "[Parallel(n_jobs=-1)]: Done 146 tasks      | elapsed:  1.7min\n",
      "[Parallel(n_jobs=-1)]: Done 349 tasks      | elapsed:  3.4min\n",
      "[Parallel(n_jobs=-1)]: Done 632 tasks      | elapsed:  5.8min\n",
      "[Parallel(n_jobs=-1)]: Done 864 out of 864 | elapsed:  7.7min finished\n",
      "[=================================================================        ] 90%\r"
     ]
    },
    {
     "name": "stdout",
     "output_type": "stream",
     "text": [
      "Finished training model for offer 8. F1 score: 0.7448275862068966\n",
      "\n",
      "Training model for offer 9..\n",
      "Fitting 3 folds for each of 288 candidates, totalling 864 fits\n"
     ]
    },
    {
     "name": "stderr",
     "output_type": "stream",
     "text": [
      "[Parallel(n_jobs=-1)]: Done  25 tasks      | elapsed:   39.2s\n",
      "[Parallel(n_jobs=-1)]: Done 146 tasks      | elapsed:  1.6min\n",
      "[Parallel(n_jobs=-1)]: Done 349 tasks      | elapsed:  3.2min\n",
      "[Parallel(n_jobs=-1)]: Done 632 tasks      | elapsed:  5.7min\n",
      "[Parallel(n_jobs=-1)]: Done 864 out of 864 | elapsed:  7.7min finished\n",
      "[=========================================================================]100%\r"
     ]
    },
    {
     "name": "stdout",
     "output_type": "stream",
     "text": [
      "Finished training model for offer 9. F1 score: 0.7391304347826085\n",
      "\n",
      "Training model for offer 10..\n",
      "Fitting 3 folds for each of 288 candidates, totalling 864 fits\n"
     ]
    },
    {
     "name": "stderr",
     "output_type": "stream",
     "text": [
      "[Parallel(n_jobs=-1)]: Done  25 tasks      | elapsed:  1.2min\n",
      "[Parallel(n_jobs=-1)]: Done 146 tasks      | elapsed:  1.8min\n",
      "[Parallel(n_jobs=-1)]: Done 349 tasks      | elapsed:  3.0min\n",
      "[Parallel(n_jobs=-1)]: Done 632 tasks      | elapsed:  4.6min\n",
      "[Parallel(n_jobs=-1)]: Done 864 out of 864 | elapsed:  6.1min finished\n",
      "[=========================================================================]100%\r"
     ]
    },
    {
     "name": "stdout",
     "output_type": "stream",
     "text": [
      "Finished training model for offer 10. F1 score: 0.7696335078534032\n",
      "\n"
     ]
    },
    {
     "name": "stderr",
     "output_type": "stream",
     "text": [
      "\n"
     ]
    }
   ],
   "source": [
    "offers = list(offer_dict.values())\n",
    "models = []\n",
    "f1s = []\n",
    "\n",
    "cnter = 0\n",
    "pbar = progressbar.ProgressBar(maxval=len(offers), widgets=[progressbar.Bar('=', '[', ']'), progressbar.Percentage()])\n",
    "pbar.start()\n",
    "\n",
    "for i, off in enumerate(offers):\n",
    "    cnter+=1 \n",
    "    pbar.update(cnter)\n",
    "    print('Training model for offer {}..'.format(i+1))\n",
    "    xtrain, xtest, ytrain, ytest = train_test_data(off, profile_trans)\n",
    "    grd_clf, f1 = train_grd_srch_cv(xtrain, xtest, ytrain, ytest)\n",
    "    joblib.dump(grd_clf, 'model_'+str(i+1)+'.model')\n",
    "    models.append(grd_clf)\n",
    "    f1s.append(f1)\n",
    "    print('Finished training model for offer {}. F1 score: {}\\n'.format(i+1, f1))\n",
    "\n",
    "pbar.finish()"
   ]
  },
  {
   "cell_type": "code",
   "execution_count": 285,
   "metadata": {},
   "outputs": [
    {
     "data": {
      "text/plain": [
       "[0.7327586206896551,\n",
       " 0.7212389380530974,\n",
       " 0.7578347578347578,\n",
       " 0.7844155844155845,\n",
       " 0.7933884297520661,\n",
       " 0.8340425531914895,\n",
       " 0.8511198945981554,\n",
       " 0.7448275862068966,\n",
       " 0.7391304347826085,\n",
       " 0.7696335078534032]"
      ]
     },
     "execution_count": 285,
     "metadata": {},
     "output_type": "execute_result"
    }
   ],
   "source": [
    "f1s"
   ]
  },
  {
   "cell_type": "code",
   "execution_count": 64,
   "metadata": {},
   "outputs": [],
   "source": [
    "models = []\n",
    "for i in range(10):\n",
    "    model_name = 'model_' + str(i)\n",
    "    locals()[model_name] = joblib.load('model_'+str(i+1)+'.model')\n",
    "    models.append(locals()[model_name])"
   ]
  },
  {
   "cell_type": "code",
   "execution_count": 66,
   "metadata": {},
   "outputs": [],
   "source": [
    "def prepare_input(age, income, gender, member_for_days):\n",
    "    \n",
    "    ''' Prepares user data such that it can be used as an input for the model.\n",
    "    \n",
    "    INPUT:\n",
    "        age (int): age of the user\n",
    "        income (float): income of the user\n",
    "        gender(str): gender of the user. 'F' for female, 'M' for male, 'O' for other\n",
    "        member_for_days (int) : number of days the user has been a member\n",
    "    OUTPUT:\n",
    "        inpt (numpy array) : numpy array containing user data\n",
    "    '''\n",
    "    \n",
    "    genders = {'F': [1, 0, 0], 'M': [0, 1, 0], 'O': [0, 0, 1]}\n",
    "    inpt = [age, income]\n",
    "    inpt.extend(genders[gender])\n",
    "    inpt.extend([member_for_days])\n",
    "    inpt = np.array(inpt).reshape(1,-1)\n",
    "    return inpt"
   ]
  },
  {
   "cell_type": "code",
   "execution_count": 67,
   "metadata": {},
   "outputs": [],
   "source": [
    "def predict_best_offers(age, income, gender, member_for_days, models, n):\n",
    "    \n",
    "    '''\n",
    "    Calculates the probability of an offer being effective and returns the names of the best n offers for a user\n",
    "    \n",
    "    INPUT:\n",
    "        age (int): age of the user\n",
    "        income (float): income of the user\n",
    "        gender(str): gender of the user. 'F' for female, 'M' for male, 'O' for other\n",
    "        member_for_days (int) : number of days the user has been a member\n",
    "        models (list) : list of models for each offer, used to calculate the probability\n",
    "        n (int) : number of best offer names required\n",
    "    OUTPUT:\n",
    "        top_offers (list) : list of n best offers for the user\n",
    "    '''\n",
    "    \n",
    "    user_data = prepare_input(age, income, gender, member_for_days)\n",
    "    pred_probs = []\n",
    "    for i in range(10):\n",
    "        prob = models[i].predict_proba(user_data)[0][1]\n",
    "        pred_probs.append(prob)\n",
    "    offer_probs = pd.DataFrame(pred_probs, index = list(offer_dict.values()), columns=['prob'])\n",
    "    offer_probs.sort_values(ascending=False, by = 'prob', inplace = True)\n",
    "    top_offers = offer_probs.index.tolist()\n",
    "    \n",
    "    return top_offers[0:n]"
   ]
  },
  {
   "cell_type": "code",
   "execution_count": 68,
   "metadata": {},
   "outputs": [
    {
     "data": {
      "text/plain": [
       "['informational_0_0_4', 'bogo_5_5_7', 'discount_20_5_10']"
      ]
     },
     "execution_count": 68,
     "metadata": {},
     "output_type": "execute_result"
    }
   ],
   "source": [
    "predict_best_offers(25, 45000, 'M', 1, models, 3)"
   ]
  },
  {
   "cell_type": "code",
   "execution_count": 329,
   "metadata": {},
   "outputs": [],
   "source": [
    "xx.sort_values(ascending=False, by = 'prob', inplace = True)"
   ]
  },
  {
   "cell_type": "code",
   "execution_count": 411,
   "metadata": {},
   "outputs": [
    {
     "data": {
      "image/png": "[encoded data removed]",
      "text/plain": [
       "<Figure size 432x288 with 1 Axes>"
      ]
     },
     "metadata": {},
     "output_type": "display_data"
    }
   ],
   "source": [
    "imps = models[0].best_estimator_.feature_importances_\n",
    "labels = ['age','income','F','M','O', 'member_for_days']\n",
    "xx = pd.DataFrame(imps, index= labels, columns= ['importance'])\n",
    "xx.sort_values(by = 'importance').plot(kind = 'barh')\n",
    "plt.show()"
   ]
  },
  {
   "cell_type": "markdown",
   "metadata": {},
   "source": [
    "For all of the random forest classifiers, the membership duration was the most important feature."
   ]
  },
  {
   "cell_type": "markdown",
   "metadata": {},
   "source": [
    "### Predicting Transaction Amounts & Offer Influence"
   ]
  },
  {
   "cell_type": "code",
   "execution_count": 69,
   "metadata": {},
   "outputs": [],
   "source": [
    "def regression_grid_search(profile_trans):\n",
    "    \n",
    "    '''Performs gridsearch and cross validation of the regression model and fits them on the training data.\n",
    "    INPUT:\n",
    "        profile_trans (dataframe) : profile\n",
    "    OUTPUT:\n",
    "        gcv_rmodel (sklearn model instance) - trained  model\n",
    "    '''\n",
    "    \n",
    "    data = profile_trans.loc[:,['age', 'income', 'F', 'M', 'O', 'member_for_days', 'avg_trans', 'trans_offer_ratio']]\n",
    "    x = data.iloc[:,0:6]\n",
    "    y = data.iloc[:,-2:]\n",
    "    rmodel = RandomForestRegressor()\n",
    "    \n",
    "    param_grid = {'bootstrap': [True],\n",
    "                  'max_depth': [80, 90, 100, 110],\n",
    "                  'max_features': [2, 3],\n",
    "                  'min_samples_leaf': [3, 4, 5],\n",
    "                  'min_samples_split': [8, 10, 12],\n",
    "                  'n_estimators': [100, 200, 300, 1000]}\n",
    "    \n",
    "    scoring = {'R2': 'r2', 'EV': 'explained_variance'}\n",
    "    \n",
    "    gcv_rmodel = GridSearchCV(rmodel, param_grid, scoring = scoring, refit = 'R2', cv=5, return_train_score=False)\n",
    "    gcv_rmodel.fit(x, y)\n",
    "    joblib.dump(gcv_rmodel, 'rmodel.model')\n",
    "  \n",
    "    return gcv_rmodel"
   ]
  },
  {
   "cell_type": "code",
   "execution_count": 469,
   "metadata": {},
   "outputs": [],
   "source": [
    "rmodel = regression_grid_search(profile_trans.dropna(subset=['avg_trans'], axis=0))"
   ]
  },
  {
   "cell_type": "code",
   "execution_count": 70,
   "metadata": {},
   "outputs": [],
   "source": [
    "locals()['rmodel'] = joblib.load('rmodel.model')\n",
    "rmodel = (locals()['rmodel'])"
   ]
  },
  {
   "cell_type": "code",
   "execution_count": 80,
   "metadata": {},
   "outputs": [
    {
     "data": {
      "text/plain": [
       "0.14536451602027622"
      ]
     },
     "execution_count": 80,
     "metadata": {},
     "output_type": "execute_result"
    }
   ],
   "source": [
    "rmodel.best_score_"
   ]
  },
  {
   "cell_type": "code",
   "execution_count": 71,
   "metadata": {},
   "outputs": [
    {
     "data": {
      "image/png": "[encoded data removed]",
      "text/plain": [
       "<Figure size 432x288 with 1 Axes>"
      ]
     },
     "metadata": {},
     "output_type": "display_data"
    }
   ],
   "source": [
    "imps = rmodel.best_estimator_.feature_importances_\n",
    "labels = ['age','income','F','M','O', 'member_for_days']\n",
    "xx = pd.DataFrame(imps, index= labels, columns= ['importance'])\n",
    "xx.sort_values(by = 'importance').plot(kind = 'barh')\n",
    "plt.show()"
   ]
  },
  {
   "cell_type": "code",
   "execution_count": 72,
   "metadata": {},
   "outputs": [],
   "source": [
    "def pred_trans_influence(age, income, gender, member_for_days, rmodel):\n",
    "    \n",
    "    '''Predicts the total transactions made by the user and the proportion of transaction that is influenced by\n",
    "    offer based on input data.\n",
    "    \n",
    "    INPUT:\n",
    "        age (int): age of the user\n",
    "        income (float): income of the user\n",
    "        gender(str): gender of the user. 'F' for female, 'M' for male, 'O' for other\n",
    "        member_for_days (int) : number of days the user has been a member\n",
    "        rmodel (sklearn model instance) : trained regression model\n",
    "    OUTPUT:\n",
    "        preds (list) : a list where the first element is the total transactions made by the user and \n",
    "                       the second element is the proportion of transaction that is influenced by offer\n",
    "    '''\n",
    "    user_data = prepare_input(age, income, gender, member_for_days)\n",
    "    preds = rmodel.predict(user_data)\n",
    "    \n",
    "    return preds.tolist()[0]"
   ]
  },
  {
   "cell_type": "code",
   "execution_count": 73,
   "metadata": {},
   "outputs": [],
   "source": [
    "def pred_offer_trans(age, income, gender, member_for_days, n, models, rmodel):\n",
    "    \n",
    "    '''Prints the best n offers for a user along with the predicting transaction of the user and \n",
    "       the proportion of the transaction influenced by offer\n",
    "       \n",
    "        INPUT:\n",
    "            age (int): age of the user\n",
    "            income (float): income of the user\n",
    "            gender(str): gender of the user. 'F' for female, 'M' for male, 'O' for other\n",
    "            member_for_days (int) : number of days the user has been a member\n",
    "            n (int) : number of best offer names required\n",
    "            models (list) : list of models for each offer, used to calculate the probability\n",
    "            rmodel (sklearn model instance) : trained regression model\n",
    "        OUTPUT:\n",
    "            N/A\n",
    "           \n",
    "    '''\n",
    "    top_offers = predict_best_offers(age, income, gender, member_for_days, models, n)\n",
    "    trans_infl = pred_trans_influence(age, income, gender, member_for_days, rmodel)\n",
    "    print('The best offers for this user are:')\n",
    "    for i in top_offers:\n",
    "        print(i)\n",
    "    print('\\n')\n",
    "    \n",
    "    print('This user will have a transaction of ${} and {}% of it will be influenced by offer.'.format(round(trans_infl[0], 2), round(trans_infl[1]*100, 2)))"
   ]
  },
  {
   "cell_type": "code",
   "execution_count": 74,
   "metadata": {},
   "outputs": [
    {
     "name": "stdout",
     "output_type": "stream",
     "text": [
      "The best offers for this user are:\n",
      "bogo_5_5_7\n",
      "informational_0_0_4\n",
      "discount_20_5_10\n",
      "\n",
      "\n",
      "This user will have a transaction of $8.62 and 22.27% of it will be influenced by offer.\n"
     ]
    }
   ],
   "source": [
    "pred_offer_trans(25, 65000, 'M', 19, 3, models, rmodel)"
   ]
  },
  {
   "cell_type": "markdown",
   "metadata": {},
   "source": [
    "## Discussion"
   ]
  },
  {
   "cell_type": "markdown",
   "metadata": {},
   "source": [
    "### Model Performance\n",
    "**Classification Models**\n",
    "\n",
    "Of all the models here, the lowest, 0.72, was for bogo_10_10_7 and the highest, 0.85, was for discount_10_2_10. Although the models did not have extremely high f1 scores, as none of them had a score below 0.70, for the purposes of this particular project, they can be deemed satisfactory. However, there is plenty of room for improvements, which will be discussed later on in this section.\n",
    "\n",
    "**Regression Model**\n",
    " \n",
    "The regression model performed poorly, with a very low R2 score. This could be because the amount a person spends is complex and multidimensional, so it is very difficult to explain a very big amount of variation. Furthermore, we only had four features we could use to predict it. "
   ]
  },
  {
   "cell_type": "markdown",
   "metadata": {},
   "source": [
    "### Project Limitations & Shortcomings\n",
    "Limited computational power together with time restrictions meant that the hyperparameters of the models could not be tuned as thoroughly. This may have contributed to the relatively low score achieved by the regression model."
   ]
  },
  {
   "cell_type": "markdown",
   "metadata": {},
   "source": [
    "### Possible Improvements\n",
    "A number of things about the training of the model and the data collection can be improved to give better results.\n",
    "\n",
    "* During the training of the models, we can first carry out a random search to get a range of values for each hyper parameter and then set those values for the grid search. This was not done in this project due to limited computational resources.\n",
    "* One of the major reasons behind the regression model performing poorly is because of the limited number of features in the dataset. More information such as, the user's home location, work location, occupation, level of education and favourite order can be collected easily without making major changes to the app. these can be used to draw a deeper insight into the user's spending habits.\n"
   ]
  },
  {
   "cell_type": "markdown",
   "metadata": {},
   "source": [
    "### Actions That Can Be Taken\n",
    "Based on the results of this project, Starbucks can take a number of actions to generate more revenue and get more loyal customers.\n",
    "\n",
    "* As higher income individuals tend to have higher amounts of transactions, Starbucks can send them offers with smaller rewards, as these individuals will be spending anyway. This is better than not sending them any offers at all as no engagements could lead to them stop using the app.\n",
    "* Individuals who are not very influenced by offers could be sent only informational offers or other offers with smaller rewards.\n",
    "* Individuals with high transaction amounts should not be sent multiple offers as they can complete multiple offers with just one order."
   ]
  },
  {
   "cell_type": "markdown",
   "metadata": {},
   "source": [
    "### Other Possibilities\n",
    "This dataset could be used in other ways to answer other questions that could help the business.\n",
    "* The data could be used to study what are the main drivers of an effective offer.\n",
    "* The data can be cluster to find out which offer works best for which demographic."
   ]
  },
  {
   "cell_type": "markdown",
   "metadata": {},
   "source": [
    "### Reflection\n",
    "This project represents a real-life data science task where the tasks results directly impact a business' decision making. Taking the CRISP-DM approach allowed me to take a more systematic way of approaching the problem.\n",
    "\n",
    "A key take away from this project for me would be the fact that in real life data science tasks, there is only datasets present, they don't come with accompanying questions. It is upto the data scientist to understand the potential of the dataset and form questions that can be answered using the data.\n",
    "\n",
    "Another key takeaway from this project is how big a part data wrangling is in a data science project. In this project there were three datasets that needed to be put together to draw meaningful insights. Wrangling the transcript dataset in a way that helped me answer the questions I had set out was really challenging and served as a reminder to how messy data in real life can be.\n",
    "\n",
    "A blogpost summarizing this project can be found [here](https://medium.com/@tahsinac/starbucks-app-sending-the-right-offer-to-the-right-user-9d8d0e24e65c)."
   ]
  },
  {
   "cell_type": "code",
   "execution_count": null,
   "metadata": {},
   "outputs": [],
   "source": []
  }
 ],
 "metadata": {
  "kernelspec": {
   "display_name": "Python 3",
   "language": "python",
   "name": "python3"
  },
  "language_info": {
   "codemirror_mode": {
    "name": "ipython",
    "version": 3
   },
   "file_extension": ".py",
   "mimetype": "text/x-python",
   "name": "python",
   "nbconvert_exporter": "python",
   "pygments_lexer": "ipython3",
   "version": "3.6.5"
  }
 },
 "nbformat": 4,
 "nbformat_minor": 2
}
